{
 "cells": [
  {
   "cell_type": "code",
   "execution_count": null,
   "metadata": {},
   "outputs": [],
   "source": [
    "class Solution:\n",
    "    def lastStoneWeight(self, stones: List[int]) -> int:\n",
    "        stones = [-ele for ele in stones]\n",
    "        heapq.heapify(stones)\n",
    "\n",
    "        while len(stones)>1:\n",
    "\n",
    "            first=heapq.heappop(stones)\n",
    "            second=heapq.heappop(stones)\n",
    "\n",
    "            if second>first:\n",
    "                heapq.heappush(stones,first-second)\n",
    "            \n",
    "        stones.append(0)\n",
    "        return abs(stones[0])\n"
   ]
  }
 ],
 "metadata": {
  "language_info": {
   "name": "python"
  },
  "orig_nbformat": 4
 },
 "nbformat": 4,
 "nbformat_minor": 2
}
