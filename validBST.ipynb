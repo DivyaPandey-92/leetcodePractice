{
 "cells": [
  {
   "cell_type": "code",
   "execution_count": null,
   "metadata": {},
   "outputs": [],
   "source": [
    "class Solution:\n",
    "    def isValidBST(self, root: Optional[TreeNode]) -> bool:\n",
    "\n",
    "        # if not root :\n",
    "        #     return True\n",
    "        # stack = [root ]\n",
    "\n",
    "        # while stack:\n",
    "\n",
    "        #     cur=stack.pop()\n",
    "\n",
    "            # if cur.right and cur.val<cur.right.val:\n",
    "            #     stack.append(cur.right)\n",
    "            # else:\n",
    "            #     return False\n",
    "\n",
    "            # if cur.left and cur.val>cur.left.val:\n",
    "            #     stack.append(cur.left)\n",
    "            #     # return False\n",
    "            # else:\n",
    "        #     #     return False\n",
    "        #     if (cur.left and cur.val<= cur.left.val) or (cur.right and cur.val>=cur.right.val):\n",
    "        #         return False\n",
    "        #     if cur.right:\n",
    "        #         stack.append(cur.right)\n",
    "        #     if cur.left:\n",
    "        #         stack.append(cur.left)\n",
    "            \n",
    "        # return\n",
    "        values=[]\n",
    "\n",
    "        def dfs(root, values):\n",
    "\n",
    "            if not root:\n",
    "                return None\n",
    "\n",
    "            # why this didnot work? returning values lists on recursive calls\n",
    "            # values = []\n",
    "            left=dfs(root.left, values)\n",
    "            values.append(root.val)\n",
    "            right=dfs(root.right, values)\n",
    "            return values\n",
    "\n",
    "        # values=[]\n",
    "        inorder=dfs(root, values)\n",
    "        # print(inorder)\n",
    "\n",
    "        return sorted(inorder)==inorder"
   ]
  }
 ],
 "metadata": {
  "language_info": {
   "name": "python"
  },
  "orig_nbformat": 4
 },
 "nbformat": 4,
 "nbformat_minor": 2
}
