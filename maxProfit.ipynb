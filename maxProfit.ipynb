{
 "cells": [
  {
   "cell_type": "code",
   "execution_count": null,
   "metadata": {},
   "outputs": [],
   "source": [
    "class Solution:\n",
    "    def maxProfit(self, prices: List[int]) -> int:\n",
    "        \n",
    "        l=0\n",
    "        # r=1\n",
    "        maxProfit=0\n",
    "        for r in range(1, len(prices)):\n",
    "            if prices[l]>prices[r]:\n",
    "                l=r\n",
    "            else:\n",
    "                profit=prices[r]-prices[l]\n",
    "                maxProfit=max(maxProfit, profit)\n",
    "        \n",
    "        return maxProfit"
   ]
  }
 ],
 "metadata": {
  "language_info": {
   "name": "python"
  },
  "orig_nbformat": 4
 },
 "nbformat": 4,
 "nbformat_minor": 2
}
