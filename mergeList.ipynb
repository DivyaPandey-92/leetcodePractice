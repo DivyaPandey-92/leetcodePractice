{
 "cells": [
  {
   "cell_type": "code",
   "execution_count": null,
   "metadata": {},
   "outputs": [],
   "source": [
    "# Definition for singly-linked list.\n",
    "# class ListNode(object):\n",
    "#     def __init__(self, val=0, next=None):\n",
    "#         self.val = val\n",
    "#         self.next = next\n",
    "class Solution(object):\n",
    "    def mergeTwoLists(self, list1, list2):\n",
    "        \"\"\"\n",
    "        :type list1: Optional[ListNode]\n",
    "        :type list2: Optional[ListNode]\n",
    "        :rtype: Optional[ListNode]\n",
    "        \"\"\"\n",
    "        if list1 is None and list2 is None:\n",
    "            return None\n",
    "\n",
    "        if list1 is None:\n",
    "            return list2\n",
    "        \n",
    "        if list2 is None:\n",
    "            return list1\n",
    "        \n",
    "        # llist=list1 of list\n",
    "        llist=None\n",
    "\n",
    "        if list1.val<=list2.val:\n",
    "            llist=list1\n",
    "            llist.next=self.mergeTwoLists(list1.next, list2)\n",
    "            return llist\n",
    "        else:\n",
    "            llist=list2\n",
    "            llist.next=self.mergeTwoLists(list1, list2.next)\n",
    "            return llist"
   ]
  }
 ],
 "metadata": {
  "language_info": {
   "name": "python"
  },
  "orig_nbformat": 4
 },
 "nbformat": 4,
 "nbformat_minor": 2
}
