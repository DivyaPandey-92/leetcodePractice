{
 "cells": [
  {
   "cell_type": "code",
   "execution_count": null,
   "metadata": {},
   "outputs": [],
   "source": [
    "class Solution:\n",
    "    def maxProfit(self, prices: List[int]) -> int:\n",
    "\n",
    "        return self.dfs(prices, 0 , False, {})\n",
    "\n",
    "    def dfs(self, prices, i , buying, memo):\n",
    "\n",
    "        if i>=len(prices):\n",
    "            return 0\n",
    "\n",
    "        key=(i, buying)\n",
    "\n",
    "        if key in memo:\n",
    "            return memo[key]\n",
    "\n",
    "        if not buying:\n",
    "            buy = -prices[i] + self.dfs(prices, i+1, not buying, memo)\n",
    "            cooldown=self.dfs(prices, i+1, buying, memo)\n",
    "            memo[key]=max(buy, cooldown)\n",
    "        else:\n",
    "            \n",
    "            sell= prices[i]+self.dfs(prices, i+2, not buying, memo)\n",
    "            cooldown=self.dfs(prices, i+1, buying, memo)\n",
    "            memo[key]= max(sell, cooldown)\n",
    "\n",
    "        return memo[key]"
   ]
  }
 ],
 "metadata": {
  "kernelspec": {
   "display_name": "Python 3",
   "language": "python",
   "name": "python3"
  },
  "language_info": {
   "name": "python",
   "version": "3.9.1 (tags/v3.9.1:1e5d33e, Dec  7 2020, 17:08:21) [MSC v.1927 64 bit (AMD64)]"
  },
  "orig_nbformat": 4,
  "vscode": {
   "interpreter": {
    "hash": "c015e0e6a20a70f8474d412d1f340c97be77a0c89b4775d2404595dcfa6c2141"
   }
  }
 },
 "nbformat": 4,
 "nbformat_minor": 2
}
