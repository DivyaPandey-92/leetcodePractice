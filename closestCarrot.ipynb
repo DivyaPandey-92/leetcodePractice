{
 "cells": [
  {
   "cell_type": "code",
   "execution_count": null,
   "metadata": {},
   "outputs": [],
   "source": [
    "def closest_carrot(grid, starting_row, starting_col):\n",
    "  pass # todo\n",
    "  visited=set()\n",
    "  return explore(grid, starting_row, starting_col, visited)\n",
    "  \n",
    "def explore(grid, starting_row, starting_col, visited):\n",
    "  \n",
    "  row_inbouds= 0<=starting_row<len(grid)\n",
    "  col_inbouds= 0<=starting_col<len(grid[0])\n",
    "  \n",
    "  if not row_inbouds or not col_inbouds:\n",
    "    return 0\n",
    "  \n",
    "  if grid[starting_row][starting_col]=='X':\n",
    "    return 0\n",
    "  \n",
    "  if grid[starting_row][starting_col]=='C':\n",
    "    return 1\n",
    "  \n",
    "  pos=(starting_row, starting_col)\n",
    "  if pos in visited:\n",
    "    return 0\n",
    "  \n",
    "  visited.add(pos)\n",
    "  \n",
    "  # path=1\n",
    "  up=1+explore(grid, starting_row-1, starting_col, visited)\n",
    "  down=1+explore(grid, starting_row+1, starting_col, visited)\n",
    "  left=1+explore(grid, starting_row, starting_col-1, visited)\n",
    "  right=1+explore(grid, starting_row, starting_col+1, visited)\n",
    "  \n",
    "  return min(up, down, left, right)\n",
    "  \n",
    "  \n",
    "  \n",
    "    "
   ]
  }
 ],
 "metadata": {
  "kernelspec": {
   "display_name": "Python 3.9.1 64-bit",
   "language": "python",
   "name": "python3"
  },
  "language_info": {
   "name": "python",
   "version": "3.9.1"
  },
  "orig_nbformat": 4,
  "vscode": {
   "interpreter": {
    "hash": "c015e0e6a20a70f8474d412d1f340c97be77a0c89b4775d2404595dcfa6c2141"
   }
  }
 },
 "nbformat": 4,
 "nbformat_minor": 2
}
