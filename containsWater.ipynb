{
 "cells": [
  {
   "cell_type": "code",
   "execution_count": null,
   "metadata": {},
   "outputs": [],
   "source": [
    "lass Solution(object):\n",
    "    def maxArea(self, height):\n",
    "        \"\"\"\n",
    "        :type height: List[int]\n",
    "        :rtype: int\n",
    "        \"\"\"\n",
    "       \n",
    "        left=0\n",
    "        right=len(height)-1\n",
    "        breadth=len(height)-1\n",
    "        maxArea=0\n",
    "        \n",
    "        for i in range(len(height)):\n",
    "            curArea=breadth*min(height[left], height[right])\n",
    "            if curArea>maxArea:\n",
    "                maxArea=curArea\n",
    "            if height[left]<=height[right]:\n",
    "                left+=1\n",
    "            else:\n",
    "                right-=1\n",
    "            breadth-=1\n",
    "        return maxArea\n"
   ]
  }
 ],
 "metadata": {
  "kernelspec": {
   "display_name": "Python 3.9.1 64-bit",
   "language": "python",
   "name": "python3"
  },
  "language_info": {
   "name": "python",
   "version": "3.9.1"
  },
  "orig_nbformat": 4,
  "vscode": {
   "interpreter": {
    "hash": "c015e0e6a20a70f8474d412d1f340c97be77a0c89b4775d2404595dcfa6c2141"
   }
  }
 },
 "nbformat": 4,
 "nbformat_minor": 2
}
