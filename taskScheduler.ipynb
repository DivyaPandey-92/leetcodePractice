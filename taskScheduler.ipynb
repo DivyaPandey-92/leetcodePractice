{
 "cells": [
  {
   "cell_type": "code",
   "execution_count": null,
   "metadata": {},
   "outputs": [],
   "source": [
    "class Solution:\n",
    "    def leastInterval(self, tasks: List[str], n: int) -> int:\n",
    "        count = Counter(tasks)\n",
    "        maxHeap = [-cnt for cnt in count.values()]\n",
    "        heapq.heapify(maxHeap)\n",
    "\n",
    "        time = 0\n",
    "        q = deque()  # pairs of [-cnt, idleTime]\n",
    "        while maxHeap or q:\n",
    "            time += 1\n",
    "\n",
    "            if not maxHeap:\n",
    "                time = q[0][1]\n",
    "            else:\n",
    "                cnt = 1 + heapq.heappop(maxHeap)\n",
    "                if cnt:\n",
    "                    q.append([cnt, time + n])\n",
    "            if q and q[0][1] == time:\n",
    "                heapq.heappush(maxHeap, q.popleft()[0])\n",
    "        return time\n",
    "\n",
    "\n",
    "\n",
    "\n",
    "\n",
    "\n",
    "\n",
    "\n",
    "\n",
    "\n",
    "\n",
    "\n",
    "\n",
    "\n",
    "\n",
    "\n",
    "\n",
    "\n",
    "\n",
    "\n"
   ]
  }
 ],
 "metadata": {
  "language_info": {
   "name": "python"
  },
  "orig_nbformat": 4
 },
 "nbformat": 4,
 "nbformat_minor": 2
}
