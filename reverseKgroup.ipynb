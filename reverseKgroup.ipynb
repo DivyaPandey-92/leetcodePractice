{
 "cells": [
  {
   "cell_type": "code",
   "execution_count": null,
   "metadata": {},
   "outputs": [],
   "source": [
    "class Solution:\n",
    "    def reverseKGroup(self, head: ListNode, k: int) -> ListNode:\n",
    "        dummy = ListNode(0, head)\n",
    "        groupPrev = dummy\n",
    "\n",
    "        while True:\n",
    "            kth = self.getKth(groupPrev, k)\n",
    "            if not kth:\n",
    "                break\n",
    "            groupNext = kth.next\n",
    "\n",
    "            # reverse group\n",
    "            prev, curr = kth.next, groupPrev.next #didnot get this line\n",
    "            while curr != groupNext:\n",
    "                tmp = curr.next\n",
    "                curr.next = prev\n",
    "                prev = curr\n",
    "                curr = tmp\n",
    "\n",
    "            #didnot get the below 3 lines\n",
    "            tmp = groupPrev.next\n",
    "            groupPrev.next = kth\n",
    "            groupPrev = tmp\n",
    "        return dummy.next\n",
    "\n",
    "    def getKth(self, curr, k):\n",
    "        while curr and k > 0:\n",
    "            curr = curr.next\n",
    "            k -= 1\n",
    "        return curr\n",
    "\n",
    "\n",
    "\n",
    "\n",
    "\n",
    "\n",
    "\n",
    "\n",
    "\n",
    "\n",
    "\n",
    "\n",
    "\n",
    "\n",
    "\n",
    "\n",
    "\n",
    "\n",
    "\n",
    "\n",
    "\n",
    "\n",
    "\n",
    "\n",
    "\n",
    "\n",
    "    "
   ]
  }
 ],
 "metadata": {
  "kernelspec": {
   "display_name": "Python 3.9.1 64-bit",
   "language": "python",
   "name": "python3"
  },
  "language_info": {
   "name": "python",
   "version": "3.9.1"
  },
  "orig_nbformat": 4,
  "vscode": {
   "interpreter": {
    "hash": "c015e0e6a20a70f8474d412d1f340c97be77a0c89b4775d2404595dcfa6c2141"
   }
  }
 },
 "nbformat": 4,
 "nbformat_minor": 2
}
