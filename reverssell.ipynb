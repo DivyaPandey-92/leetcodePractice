{
 "cells": [
  {
   "cell_type": "code",
   "execution_count": null,
   "metadata": {},
   "outputs": [],
   "source": [
    "# Definition for singly-linked list.\n",
    "# class ListNode:\n",
    "#     def __init__(self, val=0, next=None):\n",
    "#         self.val = val\n",
    "#         self.next = next\n",
    "class Solution:\n",
    "    def reverseList(self, head: Optional[ListNode]) -> Optional[ListNode]:\n",
    "\n",
    "        # if head is None:\n",
    "        #     return None \n",
    "\n",
    "        # tail=head.next\n",
    "        # prev=head\n",
    "\n",
    "        # while tail.next:\n",
    "        #     next=tail.next\n",
    "        #     tail.next=prev\n",
    "        #     # prev=tail.next\n",
    "        #     # prev=prev.next\n",
    "        #     prev=tail\n",
    "        #     tail=next\n",
    "        # # return tail\n",
    "        # return prev\n",
    "        previous=None\n",
    "        current=head\n",
    "        \n",
    "        while current:\n",
    "            next=current.next\n",
    "            current.next=previous\n",
    "            previous=current\n",
    "            current=next\n",
    "        return previous\n"
   ]
  }
 ],
 "metadata": {
  "kernelspec": {
   "display_name": "Python 3.9.1 64-bit",
   "language": "python",
   "name": "python3"
  },
  "language_info": {
   "name": "python",
   "version": "3.9.1"
  },
  "orig_nbformat": 4,
  "vscode": {
   "interpreter": {
    "hash": "c015e0e6a20a70f8474d412d1f340c97be77a0c89b4775d2404595dcfa6c2141"
   }
  }
 },
 "nbformat": 4,
 "nbformat_minor": 2
}
