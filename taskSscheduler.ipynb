{
 "cells": [
  {
   "cell_type": "code",
   "execution_count": null,
   "metadata": {},
   "outputs": [],
   "source": [
    "class Solution:\n",
    "    def leastInterval(self, tasks: List[str], n: int) -> int:\n",
    "        # dict1={}\n",
    "        # for num in \n",
    "        count = Counter(tasks)\n",
    "        maxHeap = [ -cnt for cnt in count.values()]\n",
    "        heapq.heapify(maxHeap)\n",
    "        q=deque()\n",
    "        time=0\n",
    "        \n",
    "        while maxHeap or q:\n",
    "            time+=1\n",
    "\n",
    "            if maxHeap:\n",
    "                cnt = 1 + heapq.heappop(maxHeap)  \n",
    "                if cnt :     \n",
    "                    q.append((cnt, time+n))\n",
    "            \n",
    "            if q and q[0][1]==time:\n",
    "                heapq.heappush(maxHeap, q.popleft()[0])\n",
    "\n",
    "        return time"
   ]
  }
 ],
 "metadata": {
  "kernelspec": {
   "display_name": "Python 3",
   "language": "python",
   "name": "python3"
  },
  "language_info": {
   "name": "python",
   "version": "3.9.1 (tags/v3.9.1:1e5d33e, Dec  7 2020, 17:08:21) [MSC v.1927 64 bit (AMD64)]"
  },
  "orig_nbformat": 4,
  "vscode": {
   "interpreter": {
    "hash": "c015e0e6a20a70f8474d412d1f340c97be77a0c89b4775d2404595dcfa6c2141"
   }
  }
 },
 "nbformat": 4,
 "nbformat_minor": 2
}
