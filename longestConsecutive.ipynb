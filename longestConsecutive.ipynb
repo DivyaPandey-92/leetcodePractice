{
 "cells": [
  {
   "cell_type": "code",
   "execution_count": null,
   "metadata": {},
   "outputs": [],
   "source": [
    "class Solution:\n",
    "    def longestConsecutive(self, nums: List[int]) -> int:\n",
    "\n",
    "        numset=set(nums)\n",
    "        length=0\n",
    "        longest=0\n",
    "\n",
    "        for num in nums:\n",
    "            if num-1 not in numset:\n",
    "                length=0\n",
    "                while (num+length in numset):\n",
    "                    length+=1\n",
    "                longest=max(longest, length)\n",
    "\n",
    "        return longest"
   ]
  }
 ],
 "metadata": {
  "kernelspec": {
   "display_name": "Python 3.9.1 64-bit",
   "language": "python",
   "name": "python3"
  },
  "language_info": {
   "name": "python",
   "version": "3.9.1"
  },
  "orig_nbformat": 4,
  "vscode": {
   "interpreter": {
    "hash": "c015e0e6a20a70f8474d412d1f340c97be77a0c89b4775d2404595dcfa6c2141"
   }
  }
 },
 "nbformat": 4,
 "nbformat_minor": 2
}
