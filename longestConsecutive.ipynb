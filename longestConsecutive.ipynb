{
 "cells": [
  {
   "cell_type": "code",
   "execution_count": null,
   "metadata": {},
   "outputs": [],
   "source": [
    "class Solution(object):\n",
    "    def lengthOfLongestSubstring(self, s):\n",
    "        \"\"\"\n",
    "        # :type s: str\n",
    "        # :rtype: int\n",
    "        # \"\"\"\n",
    "        # # l = \n",
    "        # # r = 1\n",
    "        # if len(s)==0:\n",
    "        #     return 0\n",
    "        # charList=set()\n",
    "        # maxlength=1\n",
    "        # currentLength=0\n",
    "        # # while r<len(s):\n",
    "        # for char in s:\n",
    "        #     if char in charList:\n",
    "        #         currentLength=1\n",
    "        #         charList.clear()    \n",
    "        #     else:\n",
    "        #         currentLength+=1\n",
    "        #     charList.add(char)\n",
    "        #     maxlength=max(maxlength, currentLength)\n",
    "        \n",
    "        # return maxlength\n",
    "\n",
    "\n",
    "\n",
    "            # if s[l]!=s[r]:\n",
    "            #     r+=1\n",
    "            #     currentLength=l-r\n",
    "            # else:\n",
    "            #     l=r\n",
    "            #     r+=1\n",
    "\n",
    "        #     maxlength=max(currentLength, maxlength)\n",
    "        \n",
    "        # return maxlength\n",
    "\n",
    "        numSet=set()\n",
    "        l=0\n",
    "        maxLength=0\n",
    "        # currentLength=0\n",
    "\n",
    "        for r in range(len(s)):\n",
    "            while s[r] in numSet:\n",
    "                numSet.remove(s[l])\n",
    "                l+=1\n",
    "            numSet.add(s[r])\n",
    "            maxLength = max(maxLength, r-l+1)\n",
    "\n",
    "        return maxLength"
   ]
  }
 ],
 "metadata": {
  "kernelspec": {
   "display_name": "Python 3.9.1 64-bit",
   "language": "python",
   "name": "python3"
  },
  "language_info": {
   "name": "python",
   "version": "3.9.1"
  },
  "orig_nbformat": 4,
  "vscode": {
   "interpreter": {
    "hash": "c015e0e6a20a70f8474d412d1f340c97be77a0c89b4775d2404595dcfa6c2141"
   }
  }
 },
 "nbformat": 4,
 "nbformat_minor": 2
}
