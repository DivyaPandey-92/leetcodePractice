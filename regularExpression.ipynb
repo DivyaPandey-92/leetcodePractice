{
 "cells": [
  {
   "cell_type": "code",
   "execution_count": null,
   "metadata": {},
   "outputs": [],
   "source": [
    "# BOTTOM-UP Dynamic Programming\n",
    "class Solution:\n",
    "    def isMatch(self, s: str, p: str) -> bool:\n",
    "        cache = [[False] * (len(p) + 1) for i in range(len(s) + 1)]\n",
    "        cache[len(s)][len(p)] = True\n",
    "\n",
    "        for i in range(len(s), -1, -1):\n",
    "            for j in range(len(p) - 1, -1, -1):\n",
    "                match = i < len(s) and (s[i] == p[j] or p[j] == \".\")\n",
    "\n",
    "                if (j + 1) < len(p) and p[j + 1] == \"*\":\n",
    "                    cache[i][j] = cache[i][j + 2]\n",
    "                    if match:\n",
    "                        cache[i][j] = cache[i + 1][j] or cache[i][j]\n",
    "                elif match:\n",
    "                    cache[i][j] = cache[i + 1][j + 1]\n",
    "\n",
    "        return cache[0][0]\n",
    "\n",
    "\n",
    "# TOP DOWN MEMOIZATION\n",
    "class Solution:\n",
    "    def isMatch(self, s: str, p: str) -> bool:\n",
    "        cache = {}\n",
    "\n",
    "        def dfs(i, j):\n",
    "            if (i, j) in cache:\n",
    "                return cache[(i, j)]\n",
    "            if i >= len(s) and j >= len(p):\n",
    "                return True\n",
    "            if j >= len(p):\n",
    "                return False\n",
    "\n",
    "            match = i < len(s) and (s[i] == p[j] or p[j] == \".\")\n",
    "            if (j + 1) < len(p) and p[j + 1] == \"*\":\n",
    "                cache[(i, j)] = dfs(i, j + 2) or (  # dont use *\n",
    "                    match and dfs(i + 1, j)\n",
    "                )  # use *\n",
    "                return cache[(i, j)]\n",
    "            if match:\n",
    "                cache[(i, j)] = dfs(i + 1, j + 1)\n",
    "                return cache[(i, j)]\n",
    "            cache[(i, j)] = False\n",
    "            return False\n",
    "\n",
    "        return dfs(0, 0)\n"
   ]
  }
 ],
 "metadata": {
  "language_info": {
   "name": "python"
  },
  "orig_nbformat": 4
 },
 "nbformat": 4,
 "nbformat_minor": 2
}
