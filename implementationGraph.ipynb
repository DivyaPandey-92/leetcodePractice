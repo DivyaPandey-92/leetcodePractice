{
 "cells": [
  {
   "cell_type": "code",
   "execution_count": null,
   "metadata": {},
   "outputs": [],
   "source": [
    "from pythonds.graphs import Graph\n",
    "\n",
    "d={}\n",
    "graph= Graph()\n",
    "wfile =open(wordfile, 'r')\n",
    "\n",
    "for line in wfile:\n",
    "    word=line[:-1]\n",
    "    for i in range(len(word)):\n",
    "        bucket=word[:i] + '_' + word[i+1:]\n",
    "    if bucket in d:\n",
    "        d[bucket].append(word)\n",
    "    else:\n",
    "        d[bucket]=[word]\n",
    "\n",
    "#add vertices & edges in the same bucket\n",
    "# \n",
    "for bucket in d.keys():\n",
    "    for word1 in d[bucket]:\n",
    "        for word2 in d[bucket]:\n",
    "            if word1!=word2:\n",
    "                word1.addedge(word2)\n"
   ]
  }
 ],
 "metadata": {
  "kernelspec": {
   "display_name": "Python 3.9.1 64-bit",
   "language": "python",
   "name": "python3"
  },
  "language_info": {
   "name": "python",
   "version": "3.9.1"
  },
  "orig_nbformat": 4,
  "vscode": {
   "interpreter": {
    "hash": "c015e0e6a20a70f8474d412d1f340c97be77a0c89b4775d2404595dcfa6c2141"
   }
  }
 },
 "nbformat": 4,
 "nbformat_minor": 2
}
