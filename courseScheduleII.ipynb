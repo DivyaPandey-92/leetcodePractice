{
 "cells": [
  {
   "cell_type": "code",
   "execution_count": null,
   "metadata": {},
   "outputs": [],
   "source": [
    "class Solution:\n",
    "    def canFinish(self, numCourses: int, prerequisites: List[List[int]]) -> bool:\n",
    "        g={}\n",
    "        for num in range(0, numCourses):\n",
    "            g[num]=[]\n",
    "\n",
    "        for pre in prerequisites:\n",
    "            a,b=pre\n",
    "            g[a].append(b)\n",
    "\n",
    "        visited=set()\n",
    "        visiting=set()\n",
    "\n",
    "        for node in g:\n",
    "            if self.dfs(g, node, visited, visiting):\n",
    "                return False\n",
    "        return True\n",
    "\n",
    "    def dfs(self, g, node, visited, visiting):\n",
    "\n",
    "        if node in visited:\n",
    "            return False\n",
    "\n",
    "        if node in visiting:\n",
    "            return True\n",
    "\n",
    "        visiting.add(node)\n",
    "\n",
    "        for nbr in g[node]:\n",
    "            if self.dfs(g, nbr, visited, visiting):\n",
    "                return True\n",
    "\n",
    "        visited.add(node)\n",
    "        visiting.remove(node)\n",
    "        return False"
   ]
  }
 ],
 "metadata": {
  "kernelspec": {
   "display_name": "Python 3.9.1 64-bit",
   "language": "python",
   "name": "python3"
  },
  "language_info": {
   "name": "python",
   "version": "3.9.1"
  },
  "orig_nbformat": 4,
  "vscode": {
   "interpreter": {
    "hash": "c015e0e6a20a70f8474d412d1f340c97be77a0c89b4775d2404595dcfa6c2141"
   }
  }
 },
 "nbformat": 4,
 "nbformat_minor": 2
}
