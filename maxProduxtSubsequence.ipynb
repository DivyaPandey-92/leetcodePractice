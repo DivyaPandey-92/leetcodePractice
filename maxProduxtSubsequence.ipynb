{
 "cells": [
  {
   "cell_type": "code",
   "execution_count": null,
   "metadata": {},
   "outputs": [],
   "source": [
    "class Solution:\n",
    "    def maxProduct(self, nums: List[int]) -> int:\n",
    "        # max_product=nums[0]\n",
    "        max_product=max(nums)\n",
    "        current_max, current_min= 1, 1\n",
    "\n",
    "        for num in nums:\n",
    "            if num==0:\n",
    "                current_max, current_min= 1, 1\n",
    "\n",
    "            temp=num*current_max\n",
    "            current_max=max(num*current_max, num*current_min, num)\n",
    "            current_min=min(temp, num*current_min, num)\n",
    "            max_product=max(max_product, current_max)\n"
   ]
  }
 ],
 "metadata": {
  "language_info": {
   "name": "python"
  },
  "orig_nbformat": 4
 },
 "nbformat": 4,
 "nbformat_minor": 2
}
