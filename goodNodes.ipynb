{
 "cells": [
  {
   "cell_type": "code",
   "execution_count": null,
   "metadata": {},
   "outputs": [],
   "source": [
    "\n",
    "class Solution:\n",
    "    def goodNodes(self, root: TreeNode) -> int:\n",
    "        \n",
    "        def dfs(root, maxValue, res):\n",
    "\n",
    "            if not root:\n",
    "                return 0\n",
    "            \n",
    "            res= 1 if root.val>=maxValue else 0\n",
    "            maxValue=max(maxValue, root.val)\n",
    "            res+=dfs(root.left, maxValue, res)\n",
    "            # return res\n",
    "            res+=dfs(root.right, maxValue, res)\n",
    "            # return right\n",
    "            return res\n",
    "\n",
    "            \n",
    "            \n",
    "\n",
    "        return dfs(root, root.val, 0)\n"
   ]
  }
 ],
 "metadata": {
  "language_info": {
   "name": "python"
  },
  "orig_nbformat": 4
 },
 "nbformat": 4,
 "nbformat_minor": 2
}
