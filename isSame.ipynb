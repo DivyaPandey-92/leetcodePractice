{
 "cells": [
  {
   "cell_type": "code",
   "execution_count": null,
   "metadata": {},
   "outputs": [],
   "source": [
    "class Solution:\n",
    "    def isSameTree(self, p: Optional[TreeNode], q: Optional[TreeNode]) -> bool:\n",
    "\n",
    "        def dfs(p, q):\n",
    "\n",
    "            if not p and not q:\n",
    "                return True\n",
    "            \n",
    "            if not p:\n",
    "                return False\n",
    "                \n",
    "            if not q:\n",
    "                return False\n",
    "            \n",
    "            if p.val!=q.val:\n",
    "                return False\n",
    "\n",
    "            left=dfs(p.left, q.left)\n",
    "            right=dfs(p.right, q.right)\n",
    "\n",
    "        return dfs(p,q)"
   ]
  }
 ],
 "metadata": {
  "language_info": {
   "name": "python"
  },
  "orig_nbformat": 4
 },
 "nbformat": 4,
 "nbformat_minor": 2
}
