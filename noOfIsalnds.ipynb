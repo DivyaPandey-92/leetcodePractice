{
 "cells": [
  {
   "cell_type": "code",
   "execution_count": null,
   "metadata": {},
   "outputs": [],
   "source": [
    "class Solution:\n",
    "    def numIslands(self, grid: List[List[str]]) -> int:\n",
    "        visited=set()\n",
    "        count=0\n",
    "        m,n=len(grid), len(grid[0])\n",
    "        for r in range(m):\n",
    "            for c in range(n):\n",
    "                # if self.explore(grid, r, c, visited) and not visited::\n",
    "                if self.explore(grid, r, c, visited):\n",
    "                    count+=1\n",
    "            \n",
    "        return count\n",
    "\n",
    "    def explore(self,grid , row, col, visited):\n",
    "\n",
    "        row_inbounds= 0<=row<len(grid)\n",
    "        col_inbounds= 0<=col<len(grid[0])\n",
    "\n",
    "        # if not row_inbounds or not col_inbounds:\n",
    "        #     return 0\n",
    "\n",
    "        if (row, col) in visited:\n",
    "            return False\n",
    "\n",
    "        visited.add((row, col))\n",
    "\n",
    "        if row_inbounds and col_inbounds and grid[row][col]=='1':\n",
    "            self.explore(grid, row+1, col, visited )\n",
    "            self.explore(grid, row-1, col, visited )\n",
    "            self.explore(grid, row, col+1, visited)\n",
    "            self.explore(grid, row, col-1, visited )\n",
    "            return True"
   ]
  }
 ],
 "metadata": {
  "kernelspec": {
   "display_name": "Python 3.9.1 64-bit",
   "language": "python",
   "name": "python3"
  },
  "language_info": {
   "name": "python",
   "version": "3.9.1"
  },
  "orig_nbformat": 4,
  "vscode": {
   "interpreter": {
    "hash": "c015e0e6a20a70f8474d412d1f340c97be77a0c89b4775d2404595dcfa6c2141"
   }
  }
 },
 "nbformat": 4,
 "nbformat_minor": 2
}
