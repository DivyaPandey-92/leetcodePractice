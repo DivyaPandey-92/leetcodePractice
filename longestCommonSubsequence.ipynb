{
 "cells": [
  {
   "cell_type": "code",
   "execution_count": null,
   "metadata": {},
   "outputs": [],
   "source": [
    "class Solution(object):\n",
    "    def longestCommonSubsequence(self, text1, text2):\n",
    "        \"\"\"\n",
    "        :type text1: str\n",
    "        :type text2: str\n",
    "        :rtype: int\n",
    "        \"\"\"\n",
    "        # counter=0\n",
    "        # for char in text2:\n",
    "        #     if char in text1:\n",
    "        #         counter+=1\n",
    "        # return counter\n",
    "        if len(text1)==0 or len(text2)==0:\n",
    "            return 0\n",
    "\n",
    "        if text1[0]==text2[0]:\n",
    "            match=1+self.longestCommonSubsequence(text1[1:], text2[1:])\n",
    "            return match\n",
    "        else:\n",
    "            right=self.longestCommonSubsequence(text1, text2[1:])\n",
    "            down=self.longestCommonSubsequence(text1[1:], text2)\n",
    "            return max(right, down)\n",
    "            # return right + down\n",
    "            # return out\n",
    "\n",
    "        return match\n",
    "    \n",
    "\n"
   ]
  },
  {
   "cell_type": "code",
   "execution_count": null,
   "metadata": {},
   "outputs": [],
   "source": [
    "class Solution(object):\n",
    "    def longestCommonSubsequence(self, text1, text2):\n",
    "        return self._longestCommonSubsequence(text1, text2, ('',''))\n",
    "\n",
    "    def _longestCommonSubsequence(self, text1, text2, memo):\n",
    "        \"\"\"\n",
    "        :type text1: str\n",
    "        :type text2: str\n",
    "        :rtype: int\n",
    "        \"\"\"\n",
    "        # counter=0\n",
    "        # for char in text2:\n",
    "        #     if char in text1:\n",
    "        #         counter+=1\n",
    "        # return counter\n",
    "        if len(text1)==0 or len(text2)==0:\n",
    "            return 0\n",
    "\n",
    "        # visited= (text1,text2)\n",
    "        \n",
    "        if visited in memo:\n",
    "            return memo[visited]\n",
    "\n",
    "        visited= (text1,text2)\n",
    "\n",
    "        if text1[0]==text2[0]:\n",
    "            memo[visited]=1+self._longestCommonSubsequence(text1[1:], text2[1:], memo)\n",
    "            return match\n",
    "        else:\n",
    "            right=self._longestCommonSubsequence(text1, text2[1:], memo)\n",
    "            down=self._longestCommonSubsequence(text1[1:], text2, memo)\n",
    "            return max(right, down)\n",
    "            # return right + down\n",
    "            # return out\n",
    "\n",
    "        return memo\n",
    "    \n",
    "\n"
   ]
  }
 ],
 "metadata": {
  "kernelspec": {
   "display_name": "Python 3.9.1 64-bit",
   "language": "python",
   "name": "python3"
  },
  "language_info": {
   "name": "python",
   "version": "3.9.1"
  },
  "orig_nbformat": 4,
  "vscode": {
   "interpreter": {
    "hash": "c015e0e6a20a70f8474d412d1f340c97be77a0c89b4775d2404595dcfa6c2141"
   }
  }
 },
 "nbformat": 4,
 "nbformat_minor": 2
}
