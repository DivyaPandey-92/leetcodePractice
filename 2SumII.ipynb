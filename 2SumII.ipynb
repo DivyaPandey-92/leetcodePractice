{
 "cells": [
  {
   "cell_type": "code",
   "execution_count": null,
   "metadata": {},
   "outputs": [],
   "source": [
    "class Solution:\n",
    "    def twoSum(self, numbers: List[int], target: int) -> List[int]:\n",
    "\n",
    "        search={}\n",
    "        i=1\n",
    "\n",
    "        for num in numbers:\n",
    "            complement=target-num\n",
    "            if complement in search:\n",
    "                return([search[complement], i])\n",
    "\n",
    "            search[num]=i\n",
    "            i+=1"
   ]
  }
 ],
 "metadata": {
  "language_info": {
   "name": "python"
  },
  "orig_nbformat": 4
 },
 "nbformat": 4,
 "nbformat_minor": 2
}
