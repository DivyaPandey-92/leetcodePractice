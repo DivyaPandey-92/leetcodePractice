{
 "cells": [
  {
   "cell_type": "code",
   "execution_count": null,
   "metadata": {},
   "outputs": [],
   "source": [
    "class Solution:\n",
    "    def longestCommonSubsequence(self, text1: str, text2: str) -> int:\n",
    "\n",
    "        return self.lcs(text1, text2, {})\n",
    "\n",
    "    def lcs(self, text1, text2, memo):\n",
    "\n",
    "        if len(text1)==0 or len(text2)==0:\n",
    "            return 0\n",
    "\n",
    "        key= (text1, text2)\n",
    "\n",
    "        if key in memo:\n",
    "            return memo[key]\n",
    "\n",
    "        if text1[0]==text2[0]:\n",
    "            # return 1+self.lcs(text1[1:], text2[1:], memo)\n",
    "            memo[key]=1+self.lcs(text1[1:], text2[1:], memo)\n",
    "            return memo[key]\n",
    "\n",
    "        else:\n",
    "            left=self.lcs(text1[1:], text2, memo)\n",
    "            right=self.lcs(text1, text2[1:], memo)\n",
    "            memo[key]=max(left, right)\n",
    "            return memo[key]"
   ]
  },
  {
   "cell_type": "code",
   "execution_count": null,
   "metadata": {},
   "outputs": [],
   "source": [
    "class Solution:\n",
    "\n",
    "    def longestCommonSubsequence(self, text1: str, text2: str) -> int:\n",
    "        # dp= [[0 for i in range(len(text1)+1)] for j in range(len(text2)+1)]\n",
    "        dp= [[0 for i in range(len(text2)+1)] for j in range(len(text1)+1)]\n",
    "\n",
    "        for i in range(len(text1)-1, -1, -1):\n",
    "            for j in range(len(text2)-1, -1, -1):\n",
    "\n",
    "                if text1[i]==text2[j]:\n",
    "                    dp[i][j]=1+dp[i+1][j+1]\n",
    "\n",
    "                else:\n",
    "                    dp[i][j]=max(dp[i+1][j], dp[i][j+1])\n",
    "                \n",
    "        return dp[0][0]\n"
   ]
  }
 ],
 "metadata": {
  "kernelspec": {
   "display_name": "Python 3.9.1 64-bit",
   "language": "python",
   "name": "python3"
  },
  "language_info": {
   "name": "python",
   "version": "3.9.1"
  },
  "orig_nbformat": 4,
  "vscode": {
   "interpreter": {
    "hash": "c015e0e6a20a70f8474d412d1f340c97be77a0c89b4775d2404595dcfa6c2141"
   }
  }
 },
 "nbformat": 4,
 "nbformat_minor": 2
}
