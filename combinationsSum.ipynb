{
 "cells": [
  {
   "cell_type": "code",
   "execution_count": null,
   "metadata": {},
   "outputs": [],
   "source": [
    "class Solution:\n",
    "    def combinationSum(self, candidates: List[int], target: int) -> List[List[int]]:\n",
    "\n",
    "        return self.comb(candidates, target)\n",
    "\n",
    "    def comb(self, candidates, target):\n",
    "\n",
    "        if target==0:\n",
    "            return [[]]\n",
    "\n",
    "        if target<0:\n",
    "            return []\n",
    "\n",
    "        all_combinations=[]\n",
    "        for candidate in candidates:\n",
    "            out=[]\n",
    "            out=self.comb(candidates, target-candidate)\n",
    "            out.append([candidate])\n",
    "            return out\n",
    "        if out not in all_combinations:\n",
    "            all_combinations.append(out)\n",
    "        # all_combinations.append(out)\n",
    "        return all_combinations"
   ]
  }
 ],
 "metadata": {
  "language_info": {
   "name": "python"
  },
  "orig_nbformat": 4
 },
 "nbformat": 4,
 "nbformat_minor": 2
}
