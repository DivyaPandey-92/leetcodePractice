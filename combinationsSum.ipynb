{
 "cells": [
  {
   "cell_type": "code",
   "execution_count": null,
   "metadata": {},
   "outputs": [],
   "source": [
    "class Solution:\n",
    "    def combinationSum(self, candidates: List[int], target: int) -> List[List[int]]:\n",
    "\n",
    "        return self.comb(candidates, target)\n",
    "\n",
    "    def comb(self, candidates, target):\n",
    "\n",
    "        if target==0:\n",
    "            return [[]]\n",
    "\n",
    "        if target<0:\n",
    "            return []\n",
    "\n",
    "        all_combinations=[]\n",
    "        for candidate in candidates:\n",
    "            out=[]\n",
    "            out=self.comb(candidates, target-candidate)\n",
    "            out.append([candidate])\n",
    "            return out\n",
    "        if out not in all_combinations:\n",
    "            all_combinations.append(out)\n",
    "        # all_combinations.append(out)\n",
    "        return all_combinations"
   ]
  }
 ],
 "metadata": {
  "kernelspec": {
   "display_name": "Python 3.9.1 64-bit",
   "language": "python",
   "name": "python3"
  },
  "language_info": {
   "name": "python",
   "version": "3.9.1"
  },
  "orig_nbformat": 4,
  "vscode": {
   "interpreter": {
    "hash": "c015e0e6a20a70f8474d412d1f340c97be77a0c89b4775d2404595dcfa6c2141"
   }
  }
 },
 "nbformat": 4,
 "nbformat_minor": 2
}
