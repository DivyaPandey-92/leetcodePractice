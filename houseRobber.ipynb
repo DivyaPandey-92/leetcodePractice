{
 "cells": [
  {
   "cell_type": "code",
   "execution_count": null,
   "metadata": {},
   "outputs": [],
   "source": [
    "class Solution(object):\n",
    "    def rob(self, nums):\n",
    "        return self._rob(nums,0, {})\n",
    "\n",
    "    def _rob(self, nums, i, memo):\n",
    "        \"\"\"\n",
    "        :type nums: List[int]\n",
    "        :rtype: int\n",
    "        \"\"\"\n",
    "\n",
    "        if i+2>len(nums):\n",
    "            return 0\n",
    "        \n",
    "        if i in memo:\n",
    "            return  memo[i]\n",
    "\n",
    "        first_included=nums[0]+self._rob(nums, i+2, memo)\n",
    "        excluded=self._rob(nums, i+1, memo)\n",
    "        memo[i]=max(first_included, excluded)\n",
    "        return memo"
   ]
  }
 ],
 "metadata": {
  "language_info": {
   "name": "python"
  },
  "orig_nbformat": 4
 },
 "nbformat": 4,
 "nbformat_minor": 2
}
