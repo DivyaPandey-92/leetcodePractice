{
 "cells": [
  {
   "cell_type": "code",
   "execution_count": null,
   "metadata": {},
   "outputs": [],
   "source": [
    "class Solution(object):\n",
    "    def rob(self, nums):\n",
    "        return self._rob(nums,0, {})\n",
    "\n",
    "    def _rob(self, nums, i, memo):\n",
    "        \"\"\"\n",
    "        :type nums: List[int]\n",
    "        :rtype: int\n",
    "        \"\"\"\n",
    "\n",
    "        if i+2>len(nums):\n",
    "            return 0\n",
    "        \n",
    "        if i in memo:\n",
    "            return  memo[i]\n",
    "\n",
    "        first_included=nums[0]+self._rob(nums, i+2, memo)\n",
    "        excluded=self._rob(nums, i+1, memo)\n",
    "        memo[i]=max(first_included, excluded)\n",
    "        return memo"
   ]
  }
 ],
 "metadata": {
  "kernelspec": {
   "display_name": "Python 3.9.1 64-bit",
   "language": "python",
   "name": "python3"
  },
  "language_info": {
   "name": "python",
   "version": "3.9.1"
  },
  "orig_nbformat": 4,
  "vscode": {
   "interpreter": {
    "hash": "c015e0e6a20a70f8474d412d1f340c97be77a0c89b4775d2404595dcfa6c2141"
   }
  }
 },
 "nbformat": 4,
 "nbformat_minor": 2
}
