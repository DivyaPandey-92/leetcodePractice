{
 "cells": [
  {
   "cell_type": "code",
   "execution_count": null,
   "metadata": {},
   "outputs": [],
   "source": [
    "import math \n",
    "class Solution:\n",
    "    def minEatingSpeed(self, piles: List[int], h: int) -> int:\n",
    "\n",
    "       #len(piles)<=h\n",
    "\n",
    "        if len(piles) > h:\n",
    "           return False\n",
    "        \n",
    "        l, r= 1, max(piles)\n",
    "        # res=[]\n",
    "        res=r\n",
    "        while l<=r:\n",
    "            k=(l+r)//2\n",
    "\n",
    "            total_hours=0\n",
    "            for pile in piles:\n",
    "                hour=math.ceil(pile/k)\n",
    "                total_hours+=hour\n",
    "\n",
    "            if total_hours <= h:\n",
    "                # r=k-1\n",
    "                # res.append(k)\n",
    "                res=min(res, k)\n",
    "                r=k-1\n",
    "\n",
    "            else:\n",
    "                l=k+1\n",
    "\n",
    "        # return min(res)\n",
    "        return res\n",
    "\n",
    "        \n",
    "\n",
    "            \n",
    "\n",
    "\n"
   ]
  }
 ],
 "metadata": {
  "language_info": {
   "name": "python"
  },
  "orig_nbformat": 4
 },
 "nbformat": 4,
 "nbformat_minor": 2
}
