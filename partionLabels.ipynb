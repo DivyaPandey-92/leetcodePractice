{
 "cells": [
  {
   "cell_type": "code",
   "execution_count": null,
   "metadata": {},
   "outputs": [],
   "source": [
    "class Solution:\n",
    "    def partitionLabels(self, s: str) -> List[int]:\n",
    "        lastIndex={}       \n",
    "        for ind, char in enumerate(s):\n",
    "            lastIndex[char]=ind\n",
    "        res=[]\n",
    "        size, end=0, 0\n",
    "        for i, char in enumerate(s):\n",
    "            last_index=lastIndex[char]\n",
    "            size+=1\n",
    "            end= max(last_index, end)\n",
    "            if i==end:\n",
    "                res.append(size)\n",
    "                size=0\n",
    "\n",
    "        return res\n"
   ]
  }
 ],
 "metadata": {
  "language_info": {
   "name": "python"
  },
  "orig_nbformat": 4
 },
 "nbformat": 4,
 "nbformat_minor": 2
}
