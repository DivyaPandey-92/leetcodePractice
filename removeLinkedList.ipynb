{
 "cells": [
  {
   "cell_type": "code",
   "execution_count": null,
   "metadata": {},
   "outputs": [],
   "source": [
    "class Solution:\n",
    "    def removeNthFromEnd(self, head: Optional[ListNode], n: int) -> Optional[ListNode]:\n",
    "        # first=self.head\n",
    "        # second=self.head\n",
    "        # for i in range(n):\n",
    "            \n",
    "        #     if second.next==None:\n",
    "        #         if(i==n-1):\n",
    "        #             self.head=self.head.next\n",
    "        #             return self.head\n",
    "        #     while(second.next!=None):\n",
    "        #         second=second.next\n",
    "        #     first.next=first.next.next\n",
    "        # return   self\n",
    "        \n",
    "        if head is None or head.next is None:\n",
    "            return None\n",
    "\n",
    "        length=0\n",
    "        tail=head\n",
    "\n",
    "        while tail:\n",
    "            tail=tail.next\n",
    "            length+=1\n",
    "\n",
    "        pos=length-n+1\n",
    "        current = head\n",
    "\n",
    "        while pos>0:\n",
    "            current=current.next\n",
    "            pos-=1\n",
    "\n",
    "        current.next=current.next.next\n",
    "\n",
    "        return head"
   ]
  }
 ],
 "metadata": {
  "language_info": {
   "name": "python"
  },
  "orig_nbformat": 4
 },
 "nbformat": 4,
 "nbformat_minor": 2
}
