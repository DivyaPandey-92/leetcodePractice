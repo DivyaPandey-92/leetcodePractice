{
 "cells": [
  {
   "cell_type": "code",
   "execution_count": 1,
   "metadata": {},
   "outputs": [
    {
     "ename": "TypeError",
     "evalue": "unsupported operand type(s) for -: 'list' and 'list'",
     "output_type": "error",
     "traceback": [
      "\u001b[1;31m---------------------------------------------------------------------------\u001b[0m",
      "\u001b[1;31mTypeError\u001b[0m                                 Traceback (most recent call last)",
      "\u001b[1;32mUntitled-3.ipynb Cell 1\u001b[0m in \u001b[0;36m<cell line: 3>\u001b[1;34m()\u001b[0m\n\u001b[0;32m      <a href='vscode-notebook-cell:Untitled-3.ipynb?jupyter-notebook#W0sdW50aXRsZWQ%3D?line=0'>1</a>\u001b[0m gas \u001b[39m=\u001b[39m [\u001b[39m2\u001b[39m,\u001b[39m3\u001b[39m,\u001b[39m4\u001b[39m]\n\u001b[0;32m      <a href='vscode-notebook-cell:Untitled-3.ipynb?jupyter-notebook#W0sdW50aXRsZWQ%3D?line=1'>2</a>\u001b[0m cost \u001b[39m=\u001b[39m [\u001b[39m3\u001b[39m,\u001b[39m4\u001b[39m,\u001b[39m3\u001b[39m]\n\u001b[1;32m----> <a href='vscode-notebook-cell:Untitled-3.ipynb?jupyter-notebook#W0sdW50aXRsZWQ%3D?line=2'>3</a>\u001b[0m gas\u001b[39m-\u001b[39;49mcost\n",
      "\u001b[1;31mTypeError\u001b[0m: unsupported operand type(s) for -: 'list' and 'list'"
     ]
    }
   ],
   "source": [
    "class Solution:\n",
    "    def canCompleteCircuit(self, gas: List[int], cost: List[int]) -> int:\n",
    "\n",
    "    #     visited=set()\n",
    "    #     for i in range(len(gas)):\n",
    "    #         out=self.traverse(gas, cost, i, visited, gas[i])\n",
    "    #         if out!=-1:\n",
    "    #             return out\n",
    "        \n",
    "    #     return -1\n",
    "\n",
    "    # def traverse(self, gas, cost, i, visited, tank_level ):\n",
    "\n",
    "        \n",
    "        \n",
    "    #     if i==len(gas):\n",
    "    #         i=0\n",
    "\n",
    "    #     if i in visited:\n",
    "    #         return i\n",
    "\n",
    "    #     if tank_level<cost[i]:\n",
    "    #         return -1\n",
    "\n",
    "\n",
    "        # visited.add(i)\n",
    "\n",
    "        # tank_level+=gas[i]\n",
    "        # return self.traverse( gas, cost, i+1, visited, tank_level)\n",
    "\n",
    "#using greedy algo\n",
    "        total=0\n",
    "        res=0\n",
    "        if sum(gas)<sum(cost):\n",
    "            return -1\n",
    "\n",
    "        else:\n",
    "            # differneces = gas - cost\n",
    "            # for i in range(len(differneces)):\n",
    "            #     if differneces[i]>0:\n",
    "            #         return i\n",
    "            # for i in range(len(gas)):\n",
    "            #     diff=gas[i]-cost[i]\n",
    "            #     if diff>0:\n",
    "            #         return i\n",
    "            for i in range(len(gas)):\n",
    "                diff=gas[i]-cost[i]\n",
    "                total+=diff\n",
    "                if total<0:\n",
    "                    total=0\n",
    "                    res=i+1\n",
    "            return res"
   ]
  }
 ],
 "metadata": {
  "kernelspec": {
   "display_name": "Python 3.9.1 64-bit",
   "language": "python",
   "name": "python3"
  },
  "language_info": {
   "codemirror_mode": {
    "name": "ipython",
    "version": 3
   },
   "file_extension": ".py",
   "mimetype": "text/x-python",
   "name": "python",
   "nbconvert_exporter": "python",
   "pygments_lexer": "ipython3",
   "version": "3.9.1"
  },
  "orig_nbformat": 4,
  "vscode": {
   "interpreter": {
    "hash": "c015e0e6a20a70f8474d412d1f340c97be77a0c89b4775d2404595dcfa6c2141"
   }
  }
 },
 "nbformat": 4,
 "nbformat_minor": 2
}
