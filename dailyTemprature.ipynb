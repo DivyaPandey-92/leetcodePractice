{
 "cells": [
  {
   "cell_type": "code",
   "execution_count": null,
   "metadata": {},
   "outputs": [],
   "source": [
    "class Solution:\n",
    "    def dailyTemperatures(self, temperatures: List[int]) -> List[int]:\n",
    "\n",
    "        res= [0]*len(temperatures)\n",
    "        stack= []\n",
    "\n",
    "        # for temperature in temperatures:\n",
    "        for index, temperature in enumerate(temperatures):\n",
    "\n",
    "            while stack and stack[-1][0]<temperature:\n",
    "                temp, ind=stack.pop()\n",
    "                res[ind]=(index-ind)\n",
    "\n",
    "            stack.append((temperature, index))\n",
    "\n",
    "        return res"
   ]
  }
 ],
 "metadata": {
  "language_info": {
   "name": "python"
  },
  "orig_nbformat": 4
 },
 "nbformat": 4,
 "nbformat_minor": 2
}
