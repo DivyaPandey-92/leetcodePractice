{
 "cells": [
  {
   "cell_type": "code",
   "execution_count": null,
   "metadata": {},
   "outputs": [],
   "source": [
    "class Solution(object):\n",
    "    def rob(self, nums):\n",
    "        \"\"\"\n",
    "        :type nums: List[int]\n",
    "        :rtype: int\n",
    "        \"\"\"\n",
    "        if len(nums)==1:\n",
    "            return nums[0]\n",
    "        rob_include_first=self.maxRob(nums[:-1])\n",
    "        rob_include_last=self.maxRob(nums[1:])\n",
    "        return max(rob_include_first, rob_include_last)\n",
    "\n",
    "    def maxRob(self, sub_nums ):\n",
    "        rob1, rob2=0, 0\n",
    "        for n in sub_nums:\n",
    "            temp=max(rob1+n, rob2)  \n",
    "            rob1=rob2\n",
    "            rob2=temp\n",
    "\n",
    "        return rob2\n"
   ]
  }
 ],
 "metadata": {
  "kernelspec": {
   "display_name": "Python 3.9.1 64-bit",
   "language": "python",
   "name": "python3"
  },
  "language_info": {
   "name": "python",
   "version": "3.9.1"
  },
  "orig_nbformat": 4,
  "vscode": {
   "interpreter": {
    "hash": "c015e0e6a20a70f8474d412d1f340c97be77a0c89b4775d2404595dcfa6c2141"
   }
  }
 },
 "nbformat": 4,
 "nbformat_minor": 2
}
