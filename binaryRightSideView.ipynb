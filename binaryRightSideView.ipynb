{
 "cells": [
  {
   "cell_type": "code",
   "execution_count": null,
   "metadata": {},
   "outputs": [],
   "source": [
    "# Definition for a binary tree node.\n",
    "# class TreeNode:\n",
    "#     def __init__(self, val=0, left=None, right=None):\n",
    "#         self.val = val\n",
    "#         self.left = left\n",
    "#         self.right = right\n",
    "from collections import deque\n",
    "class Solution:\n",
    "    def rightSideView(self, root: Optional[TreeNode]) -> List[int]:\n",
    "        # result=[ root ]\n",
    "        # stack= [  ]\n",
    "        # while stack:    \n",
    "        #     if root.right:\n",
    "        #         stack.append()\n",
    "\n",
    "        queue= deque([ root ]) \n",
    "        res=[]\n",
    "\n",
    "        while queue:\n",
    "            qlen=len(queue)\n",
    "            rightSide=None\n",
    "\n",
    "            for i in range(qlen):\n",
    "\n",
    "                node=queue.popleft()\n",
    "\n",
    "                if node:\n",
    "                    rightSide=node\n",
    "                    queue.append(node.left)\n",
    "                    queue.append(node.right)\n",
    "\n",
    "            if rightSide:\n",
    "                res.append(rightSide.val)"
   ]
  }
 ],
 "metadata": {
  "language_info": {
   "name": "python"
  },
  "orig_nbformat": 4
 },
 "nbformat": 4,
 "nbformat_minor": 2
}
