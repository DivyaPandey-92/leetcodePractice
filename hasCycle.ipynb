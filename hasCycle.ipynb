{
 "cells": [
  {
   "cell_type": "code",
   "execution_count": null,
   "metadata": {},
   "outputs": [],
   "source": [
    "def has_cycle(graph):\n",
    "  pass # todo\n",
    "  visited={}\n",
    "  for node in has_cycle:\n",
    "    out=explore(graph, node,  visited)\n",
    "  \n",
    "  \n",
    "def explore(graph, node, visited ):\n",
    "  \n",
    "  if node in visited:\n",
    "    return True\n",
    "  \n",
    "  visited.add(node)\n",
    "  \n",
    "  for neigbor in graph[node]:\n",
    "    if explore(graph, neigbor, visited):\n",
    "      return True\n",
    "    \n",
    "  return False"
   ]
  }
 ],
 "metadata": {
  "language_info": {
   "name": "python"
  },
  "orig_nbformat": 4
 },
 "nbformat": 4,
 "nbformat_minor": 2
}
