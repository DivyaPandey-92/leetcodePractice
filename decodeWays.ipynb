{
 "cells": [
  {
   "cell_type": "code",
   "execution_count": null,
   "metadata": {},
   "outputs": [],
   "source": [
    "class Solution:\n",
    "    def numDecodings(self, s: str) -> int:\n",
    "\n",
    "        return self.ways(s, 0, {})\n",
    "\n",
    "    def ways(self, s, start, memo):\n",
    "\n",
    "        # if start==len(s)-2:\n",
    "        #     return 1\n",
    "        if len(s[start:])==0:\n",
    "            return 1\n",
    "\n",
    "        # if int(s[start])==0:\n",
    "        #     return 0\n",
    "\n",
    "        if s[start]==\"0\":\n",
    "            return 0\n",
    "\n",
    "        \n",
    "        if start in memo:\n",
    "            return memo[start]\n",
    "\n",
    "        # if s[start]==0 or s[start:start+2]>:\n",
    "        #     return 0\n",
    "        total_ways=0\n",
    "        # if int(s[start])!=0:\n",
    "        one_digit=self.ways(s, start+1, memo)\n",
    "        total_ways+=one_digit\n",
    "\n",
    "        if start+1<len(s) and int(s[start:start+2])>0 and int(s[start:start+2])<27:\n",
    "            two_digit=self.ways(s, start+2, memo)\n",
    "            total_ways+=two_digit\n",
    "\n",
    "        memo[start]=total_ways\n",
    "        return memo[start]"
   ]
  }
 ],
 "metadata": {
  "kernelspec": {
   "display_name": "Python 3.9.1 64-bit",
   "language": "python",
   "name": "python3"
  },
  "language_info": {
   "name": "python",
   "version": "3.9.1"
  },
  "orig_nbformat": 4,
  "vscode": {
   "interpreter": {
    "hash": "c015e0e6a20a70f8474d412d1f340c97be77a0c89b4775d2404595dcfa6c2141"
   }
  }
 },
 "nbformat": 4,
 "nbformat_minor": 2
}
