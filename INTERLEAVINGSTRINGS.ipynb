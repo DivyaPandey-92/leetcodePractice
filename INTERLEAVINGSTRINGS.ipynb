{
 "cells": [
  {
   "cell_type": "code",
   "execution_count": null,
   "metadata": {},
   "outputs": [],
   "source": [
    "class Solution:\n",
    "    def isInterleave(self, s1: str, s2: str, s3: str) -> bool:\n",
    "        if len(s1) + len(s2) != len(s3):\n",
    "            return False\n",
    "\n",
    "        dp = [[False] * (len(s2) + 1) for i in range(len(s1) + 1)]\n",
    "        dp[len(s1)][len(s2)] = True\n",
    "\n",
    "        for i in range(len(s1), -1, -1):\n",
    "            for j in range(len(s2), -1, -1):\n",
    "                if i < len(s1) and s1[i] == s3[i + j] and dp[i + 1][j]:\n",
    "                    dp[i][j] = True\n",
    "                if j < len(s2) and s2[j] == s3[i + j] and dp[i][j + 1]:\n",
    "                    dp[i][j] = True\n",
    "        return dp[0][0]\n"
   ]
  }
 ],
 "metadata": {
  "language_info": {
   "name": "python"
  },
  "orig_nbformat": 4
 },
 "nbformat": 4,
 "nbformat_minor": 2
}
