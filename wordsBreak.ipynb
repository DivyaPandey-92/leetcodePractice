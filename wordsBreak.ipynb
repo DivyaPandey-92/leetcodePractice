{
 "cells": [
  {
   "cell_type": "code",
   "execution_count": null,
   "metadata": {},
   "outputs": [],
   "source": [
    "    def _wordBreak(self, s, wordDict, memo):\n",
    "\n",
    "        if len(s)==0:\n",
    "            return True\n",
    "        # key=s\n",
    "        if s in memo:\n",
    "            return memo[s]\n",
    "\n",
    "        for word in wordDict:\n",
    "            if s.startswith(word):\n",
    "            #    if  self._wordBreak( s[len(word):], wordDict):\n",
    "            #        return True\n",
    "                memo[s]=self._wordBreak( s[len(word):], wordDict, memo)\n",
    "                # return memo[s]\n",
    "                if memo[s]:\n",
    "                    return True\n",
    "\n",
    "        return False"
   ]
  },
  {
   "cell_type": "code",
   "execution_count": null,
   "metadata": {},
   "outputs": [],
   "source": [
    "        #uisng Neetcode DP\n",
    "        def wordBreak(self, s: str, wordDict: List[str]) -> bool:\n",
    "\n",
    "            dp = [False]*(len(s)+1)\n",
    "            dp[len(s)]=True\n",
    "\n",
    "            for i in range(len(s)-1, -1, -1):\n",
    "                for word in wordDict:\n",
    "                    if (i+len(word))<=len(s) and s[i:i+len(word)]==word:\n",
    "                        dp[i]=dp[i+len(word)]\n",
    "                    if dp[i]:\n",
    "                        break\n",
    "\n",
    "            return dp[0]"
   ]
  }
 ],
 "metadata": {
  "language_info": {
   "name": "python"
  },
  "orig_nbformat": 4
 },
 "nbformat": 4,
 "nbformat_minor": 2
}
