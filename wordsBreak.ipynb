{
 "cells": [
  {
   "cell_type": "code",
   "execution_count": null,
   "metadata": {},
   "outputs": [],
   "source": [
    "class Solution(object):\n",
    "    def wordBreak(self, s, wordDict):\n",
    "        \"\"\"\n",
    "        :type s: str\n",
    "        :type wordDict: List[str]\n",
    "        :rtype: bool\n",
    "        \"\"\"\n",
    "\n",
    "        if len(s)==0:\n",
    "            return True\n",
    "        \n",
    "\n",
    "        for word in wordDict:\n",
    "            if s.startswith(word):\n",
    "                length=len(word)\n",
    "                segment=self.wordBreak(s[length:], wordDict)\n",
    "                return segment\n",
    "          \n",
    "            # return segemnt \n",
    "                # if segment:\n",
    "                #     return True\n",
    "        \n",
    "        # return segment or False\n",
    "        return False"
   ]
  }
 ],
 "metadata": {
  "language_info": {
   "name": "python"
  },
  "orig_nbformat": 4
 },
 "nbformat": 4,
 "nbformat_minor": 2
}
