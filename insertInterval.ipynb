{
 "cells": [
  {
   "cell_type": "code",
   "execution_count": null,
   "metadata": {},
   "outputs": [],
   "source": [
    "class Solution:\n",
    "    def insert(\n",
    "        self, intervals: List[List[int]], newInterval: List[int]\n",
    "    ) -> List[List[int]]:\n",
    "        res = []\n",
    "\n",
    "        for i in range(len(intervals)):\n",
    "            if newInterval[1] < intervals[i][0]:\n",
    "                res.append(newInterval)\n",
    "                return res + intervals[i:]\n",
    "            elif newInterval[0] > intervals[i][1]:\n",
    "                res.append(intervals[i])\n",
    "            else:\n",
    "                newInterval = [\n",
    "                    min(newInterval[0], intervals[i][0]),\n",
    "                    max(newInterval[1], intervals[i][1]),\n",
    "                ]\n",
    "        res.append(newInterval)\n",
    "        return res\n"
   ]
  }
 ],
 "metadata": {
  "language_info": {
   "name": "python"
  },
  "orig_nbformat": 4
 },
 "nbformat": 4,
 "nbformat_minor": 2
}
