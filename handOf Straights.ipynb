{
 "cells": [
  {
   "cell_type": "code",
   "execution_count": null,
   "metadata": {},
   "outputs": [],
   "source": [
    "class Solution:\n",
    "    def isNStraightHand(self, hand: List[int], groupSize: int) -> bool:\n",
    "\n",
    "        #unable to fully understand the logic behind as why if min element in heap is not the one in the count list then return False\n",
    "        if len(hand)%groupSize:\n",
    "            return False\n",
    "\n",
    "\n",
    "        count={}\n",
    "\n",
    "        for n in hand:\n",
    "            count[n]=1+count.get(n, 0)\n",
    "\n",
    "        minH=list(count.keys())\n",
    "        heapq.heapify(minH)\n",
    "\n",
    "        while minH:\n",
    "            first=minH[0]\n",
    "\n",
    "            for i in range(first, first+ groupSize):\n",
    "                if i not in count:\n",
    "                    return False\n",
    "                count[i]-=1\n",
    "                if count[i]==0:\n",
    "                    if i!=minH[0]:\n",
    "                        return False\n",
    "                    heapq.heappop(minH)\n",
    "        return True\n"
   ]
  }
 ],
 "metadata": {
  "language_info": {
   "name": "python"
  },
  "orig_nbformat": 4
 },
 "nbformat": 4,
 "nbformat_minor": 2
}
