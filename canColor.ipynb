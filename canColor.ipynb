{
 "cells": [
  {
   "cell_type": "code",
   "execution_count": null,
   "metadata": {},
   "outputs": [],
   "source": [
    "def can_color(graph):\n",
    "  pass # todo\n",
    "  # visiting=set()\n",
    "  # visited=set()\n",
    "  coloring={}\n",
    "  \n",
    "  for node in graph:\n",
    "    if node not in coloring:#why without this line of code, it is not giving correct results\n",
    "      if not validate(graph, node, coloring, True):\n",
    "        return False\n",
    "    \n",
    "  return True\n",
    "  \n",
    "\n",
    "def validate(graph, node, coloring, current_color):\n",
    "  \n",
    "  if node in coloring and coloring[node]!=current_color:\n",
    "    return False\n",
    "  \n",
    "  if node in coloring and coloring[node]==current_color:\n",
    "    return True\n",
    "    \n",
    "  \n",
    "  coloring[node] = current_color\n",
    "  \n",
    "  for neigbour in graph[node]:\n",
    "    if not validate(graph, neigbour, coloring, not current_color):\n",
    "      return False\n",
    "  return True\n",
    "    \n",
    "      "
   ]
  }
 ],
 "metadata": {
  "language_info": {
   "name": "python"
  },
  "orig_nbformat": 4
 },
 "nbformat": 4,
 "nbformat_minor": 2
}
