{
 "cells": [
  {
   "cell_type": "code",
   "execution_count": null,
   "metadata": {},
   "outputs": [],
   "source": [
    "class Solution:\n",
    "    def countSubstrings(self, s: str) -> int:\n",
    "\n",
    "        # left=0\n",
    "        # right=0\n",
    "        counter=0\n",
    "\n",
    "        for i in range(len(s)):\n",
    "            # if s[left]==s[right]:\n",
    "            #     counter+=1\n",
    "            #     left-=1\n",
    "            #     right+=1\n",
    "            #     if left\n",
    "            l=r=i\n",
    "\n",
    "            while l>=0 and r<len(s) and s[l]==s[r]:\n",
    "                counter+=1\n",
    "                l-=1\n",
    "                r+=1\n",
    "            \n",
    "            l=i\n",
    "            r=i+1\n",
    "\n",
    "            while l>=0 and r<len(s) and s[l]==s[r]:\n",
    "                counter+=1\n",
    "                l-=1\n",
    "                r+=1\n",
    "\n",
    "        return counter\n"
   ]
  }
 ],
 "metadata": {
  "language_info": {
   "name": "python"
  },
  "orig_nbformat": 4
 },
 "nbformat": 4,
 "nbformat_minor": 2
}
