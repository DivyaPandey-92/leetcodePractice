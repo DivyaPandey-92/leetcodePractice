{
 "cells": [
  {
   "cell_type": "code",
   "execution_count": null,
   "metadata": {},
   "outputs": [],
   "source": [
    "#iterative bfs\n",
    "class Solution:\n",
    "    def levelOrder(self, root: Optional[TreeNode]) -> List[List[int]]:\n",
    "\n",
    "        if root is None:\n",
    "            return []\n",
    "\n",
    "        queue=deque([(root, 0)])\n",
    "        levels=[]\n",
    "\n",
    "        while queue:\n",
    "            cur, level_num=queue.popleft()\n",
    "\n",
    "            if len(levels)==level_num:\n",
    "                # levels.append(cur.val)\n",
    "                # levels[level_num]=cur.val\n",
    "                levels.append([cur.val])\n",
    "            # out[level].append(cur)\n",
    "            else:\n",
    "                levels[level_num].append(cur.val)\n",
    "\n",
    "            if cur.left:\n",
    "                queue.append((cur.left, level_num+1))\n",
    "            if cur.right:\n",
    "                queue.append((cur.right, level_num+1))\n",
    "\n",
    "        return levels"
   ]
  }
 ],
 "metadata": {
  "language_info": {
   "name": "python"
  },
  "orig_nbformat": 4
 },
 "nbformat": 4,
 "nbformat_minor": 2
}
