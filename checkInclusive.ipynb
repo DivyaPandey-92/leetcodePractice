{
 "cells": [
  {
   "cell_type": "code",
   "execution_count": null,
   "metadata": {},
   "outputs": [],
   "source": [
    "class Solution:\n",
    "    def checkInclusion(self, s1: str, s2: str) -> bool:\n",
    "        if len(s1) > len(s2):\n",
    "            return False\n",
    "\n",
    "        s1Count, s2Count = [0] * 26, [0] * 26\n",
    "        for i in range(len(s1)):\n",
    "            s1Count[ord(s1[i]) - ord(\"a\")] += 1\n",
    "            s2Count[ord(s2[i]) - ord(\"a\")] += 1\n",
    "\n",
    "        matches = 0\n",
    "        for i in range(26):\n",
    "            matches += 1 if s1Count[i] == s2Count[i] else 0\n",
    "\n",
    "        l = 0\n",
    "        for r in range(len(s1), len(s2)):\n",
    "            if matches == 26:\n",
    "                return True\n",
    "\n",
    "            index = ord(s2[r]) - ord(\"a\")\n",
    "            s2Count[index] += 1\n",
    "            if s1Count[index] == s2Count[index]:\n",
    "                matches += 1\n",
    "            elif s1Count[index] + 1 == s2Count[index]:\n",
    "                matches -= 1\n",
    "\n",
    "            index = ord(s2[l]) - ord(\"a\")\n",
    "            s2Count[index] -= 1\n",
    "            if s1Count[index] == s2Count[index]:\n",
    "                matches += 1\n",
    "            elif s1Count[index] - 1 == s2Count[index]:\n",
    "                matches -= 1\n",
    "            l += 1\n",
    "        return matches == 26\n"
   ]
  }
 ],
 "metadata": {
  "language_info": {
   "name": "python"
  },
  "orig_nbformat": 4
 },
 "nbformat": 4,
 "nbformat_minor": 2
}
