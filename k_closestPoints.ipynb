{
 "cells": [
  {
   "cell_type": "code",
   "execution_count": null,
   "metadata": {},
   "outputs": [],
   "source": [
    "class Solution:\n",
    "    def kClosest(self, points: List[List[int]], k: int) -> List[List[int]]:\n",
    "        minHeap=[]\n",
    "\n",
    "        for x, y in points:\n",
    "           distance = (x**2)+(y**2)\n",
    "           minHeap.append([distance, x, y])\n",
    "        \n",
    "        heapq.heapify(minHeap)\n",
    "        res=[]\n",
    "\n",
    "        # while len()minHeap\n",
    "        # while len(minHeap)k:\n",
    "        while k>0:\n",
    "            dist, x,y=heapq.heappop(minHeap)\n",
    "            res.append([x,y])\n",
    "            k-=1\n",
    "        \n",
    "        # return [res[-1]]\n",
    "        return res\n",
    "\n",
    "\n",
    "\n",
    "\n",
    "            "
   ]
  }
 ],
 "metadata": {
  "language_info": {
   "name": "python"
  },
  "orig_nbformat": 4
 },
 "nbformat": 4,
 "nbformat_minor": 2
}
