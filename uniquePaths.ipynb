{
 "cells": [
  {
   "cell_type": "code",
   "execution_count": null,
   "metadata": {},
   "outputs": [],
   "source": [
    "class Solution(object):\n",
    "    def uniquePaths(self, m, n):\n",
    "        return self._uniquePaths( m, n, {})\n",
    "\n",
    "    def _uniquePaths(self, m, n, memo):\n",
    "        \"\"\"\n",
    "        :type m: int\n",
    "        :type n: int\n",
    "        :rtype: int\n",
    "        \"\"\"\n",
    "        if m==1 or n==1:\n",
    "            return 1\n",
    "\n",
    "        if m==0 or n==0:\n",
    "            return 0\n",
    "\n",
    "        pos=(m,n)\n",
    "        if pos in memo:\n",
    "            return memo[pos]\n",
    "        \n",
    "\n",
    "        memo[(m,n)]=self._uniquePaths(m-1, n, memo) + self._uniquePaths(m, n-1, memo )\n",
    "        return memo[(m,n)]"
   ]
  }
 ],
 "metadata": {
  "kernelspec": {
   "display_name": "Python 3.9.1 64-bit",
   "language": "python",
   "name": "python3"
  },
  "language_info": {
   "name": "python",
   "version": "3.9.1"
  },
  "orig_nbformat": 4,
  "vscode": {
   "interpreter": {
    "hash": "c015e0e6a20a70f8474d412d1f340c97be77a0c89b4775d2404595dcfa6c2141"
   }
  }
 },
 "nbformat": 4,
 "nbformat_minor": 2
}
