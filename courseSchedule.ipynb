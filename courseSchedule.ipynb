{
 "cells": [
  {
   "cell_type": "code",
   "execution_count": null,
   "metadata": {},
   "outputs": [],
   "source": [
    "class Solution:\n",
    "    def canFinish(self, numCourses: int, prerequisites: List[List[int]]) -> bool:\n",
    "        g={}\n",
    "        for num in range(0, numCourses):\n",
    "            g[num]=[]\n",
    "\n",
    "        for pre in prerequisites:\n",
    "            a,b=pre\n",
    "            g[a].append(b)\n",
    "\n",
    "        visited=set()\n",
    "        visiting=set()\n",
    "\n",
    "        for node in g:\n",
    "            if self.dfs(g, node, visited, visiting):\n",
    "                return False\n",
    "        return True\n",
    "\n",
    "    def dfs(self, g, node, visited, visiting):\n",
    "\n",
    "        if node in visited:\n",
    "            return False\n",
    "\n",
    "        if node in visiting:\n",
    "            return True\n",
    "\n",
    "        visiting.add(node)\n",
    "\n",
    "        for nbr in g[node]:\n",
    "            if self.dfs(g, nbr, visited, visiting):\n",
    "                return True\n",
    "        return False\n",
    "\n",
    "        visiting.remove(node)\n",
    "        visited.add(node)\n",
    "   \n",
    "\n"
   ]
  }
 ],
 "metadata": {
  "language_info": {
   "name": "python"
  },
  "orig_nbformat": 4
 },
 "nbformat": 4,
 "nbformat_minor": 2
}
