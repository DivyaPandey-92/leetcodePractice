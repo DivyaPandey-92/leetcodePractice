{
 "cells": [
  {
   "cell_type": "code",
   "execution_count": null,
   "metadata": {},
   "outputs": [],
   "source": [
    "def max_increasing_subseq(numbers):\n",
    "  pass # todo\n",
    "  previous=float('-inf')\n",
    "  return _max_increasing_subseq(numbers, 0, len(numbers)-1, previous)\n",
    "  \n",
    "  \n",
    "def _max_increasing_subseq(numbers, start, stop, previous): \n",
    "  if start>stop:\n",
    "    return 0\n",
    "  \n",
    "  if previous<numbers[start]:\n",
    "    previous=numbers[start]\n",
    "    with_first = 1 + _max_increasing_subseq(numbers, start+1, stop, previous)\n",
    "    # return with_first\n",
    "    return with_first\n",
    "  else:\n",
    "    previous=float('-inf')\n",
    "    without_first =  _max_increasing_subseq(numbers, start+1, stop, previous)\n",
    "    return without_first \n",
    "    \n",
    "  return max(without_first, with_first)\n",
    "  "
   ]
  },
  {
   "cell_type": "code",
   "execution_count": null,
   "metadata": {},
   "outputs": [],
   "source": [
    "def max_increasing_subseq(numbers):\n",
    "  pass # todo\n",
    "  previous=float('-inf')\n",
    "  return _max_increasing_subseq(numbers, 0, len(numbers)-1, previous, {})\n",
    "  \n",
    "  \n",
    "def _max_increasing_subseq(numbers, start, stop, previous, memo): \n",
    "  if start>stop:\n",
    "    return 0\n",
    "  \n",
    "  node= (start, stop)\n",
    "  if node in memo:\n",
    "    return memo[node]\n",
    "  \n",
    "  options=[]\n",
    "  \n",
    "  current=numbers[start]\n",
    "  without_first = _max_increasing_subseq(numbers, start+1, stop, previous, memo)\n",
    "  options.append(without_first)\n",
    "  \n",
    "  if current > previous:\n",
    "    with_first = 1 + _max_increasing_subseq(numbers, start+1, stop, current, memo)\n",
    "    options.append(with_first)\n",
    "  \n",
    "  # return max(options)\n",
    "  memo[node]=max(options)\n",
    "  return memo[node]"
   ]
  }
 ],
 "metadata": {
  "kernelspec": {
   "display_name": "Python 3.9.1 64-bit",
   "language": "python",
   "name": "python3"
  },
  "language_info": {
   "name": "python",
   "version": "3.9.1"
  },
  "orig_nbformat": 4,
  "vscode": {
   "interpreter": {
    "hash": "c015e0e6a20a70f8474d412d1f340c97be77a0c89b4775d2404595dcfa6c2141"
   }
  }
 },
 "nbformat": 4,
 "nbformat_minor": 2
}
