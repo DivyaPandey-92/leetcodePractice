{
 "cells": [
  {
   "cell_type": "code",
   "execution_count": null,
   "metadata": {},
   "outputs": [],
   "source": [
    "def max_increasing_subseq(numbers):\n",
    "  pass # todo\n",
    "  previous=float('-inf')\n",
    "  return _max_increasing_subseq(numbers, 0, len(numbers)-1, previous)\n",
    "  \n",
    "  \n",
    "def _max_increasing_subseq(numbers, start, stop, previous): \n",
    "  if start>stop:\n",
    "    return 0\n",
    "  \n",
    "  if previous<numbers[start]:\n",
    "    previous=numbers[start]\n",
    "    with_first = 1 + _max_increasing_subseq(numbers, start+1, stop, previous)\n",
    "    # return with_first\n",
    "    return with_first\n",
    "  else:\n",
    "    previous=float('-inf')\n",
    "    without_first =  _max_increasing_subseq(numbers, start+1, stop, previous)\n",
    "    return without_first \n",
    "    \n",
    "  return max(without_first, with_first)\n",
    "  "
   ]
  }
 ],
 "metadata": {
  "language_info": {
   "name": "python"
  },
  "orig_nbformat": 4
 },
 "nbformat": 4,
 "nbformat_minor": 2
}
