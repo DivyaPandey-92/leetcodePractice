{
 "cells": [
  {
   "cell_type": "code",
   "execution_count": null,
   "metadata": {},
   "outputs": [],
   "source": [
    "class Solution:\n",
    "    def findKthLargest(self, nums: List[int], k: int) -> int:\n",
    "        maxHeap = [-num for num in nums]\n",
    "\n",
    "        # heapq.heapify(nums)\n",
    "        heapq.heapify(maxHeap)\n",
    "\n",
    "        # if k>0:\n",
    "        # i=0\n",
    "        res=[]\n",
    "        while k>0:\n",
    "            val=heapq.heappop(maxHeap)\n",
    "            k-=1\n",
    "            res.append(-val)\n",
    "            # i+=1\n",
    "\n",
    "        # return (nums[0])\n",
    "        return res[-1]"
   ]
  }
 ],
 "metadata": {
  "language_info": {
   "name": "python"
  },
  "orig_nbformat": 4
 },
 "nbformat": 4,
 "nbformat_minor": 2
}
