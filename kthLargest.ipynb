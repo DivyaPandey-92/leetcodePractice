{
 "cells": [
  {
   "cell_type": "code",
   "execution_count": null,
   "metadata": {},
   "outputs": [],
   "source": [
    "class KthLargest:\n",
    "\n",
    "    def __init__(self, k: int, nums: List[int]):\n",
    "        self.minHeap, self.k =nums, k\n",
    "        # heapify.heapq(self.min)\n",
    "        heapq.heapify(self.minHeap)\n",
    "        while len(self.minHeap)>k:\n",
    "            # self.minHeap.\n",
    "            heapq.heappop(self.minHeap)\n",
    "        # return \n",
    "\n",
    "    def add(self, val: int) -> int:\n",
    "        heapq.heappush(self.minHeap, val)\n",
    "\n",
    "        if len(self.minHeap)>self.k:\n",
    "            heapq.heappop(self.minHeap)\n",
    "\n",
    "        return self.minHeap[0]\n",
    "        \n",
    "\n",
    "\n",
    "# Your KthLargest object will be instantiated and called as such:\n",
    "# obj = KthLargest(k, nums)\n",
    "# param_1 = obj.add(val)"
   ]
  }
 ],
 "metadata": {
  "language_info": {
   "name": "python"
  },
  "orig_nbformat": 4
 },
 "nbformat": 4,
 "nbformat_minor": 2
}
