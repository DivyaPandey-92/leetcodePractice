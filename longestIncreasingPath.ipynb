{
 "cells": [
  {
   "cell_type": "code",
   "execution_count": null,
   "metadata": {},
   "outputs": [],
   "source": [
    "class Solution:\n",
    "    def longestIncreasingPath(self, matrix: List[List[int]]) -> int:\n",
    "        ROWS, COLS = len(matrix), len(matrix[0])\n",
    "        dp = {}  # (r, c) -> LIP\n",
    "\n",
    "        def dfs(r, c, prevVal):\n",
    "            if r < 0 or r == ROWS or c < 0 or c == COLS or matrix[r][c] <= prevVal:\n",
    "                return 0\n",
    "            if (r, c) in dp:\n",
    "                return dp[(r, c)]\n",
    "\n",
    "            res = 1\n",
    "            res = max(res, 1 + dfs(r + 1, c, matrix[r][c]))\n",
    "            res = max(res, 1 + dfs(r - 1, c, matrix[r][c]))\n",
    "            res = max(res, 1 + dfs(r, c + 1, matrix[r][c]))\n",
    "            res = max(res, 1 + dfs(r, c - 1, matrix[r][c]))\n",
    "            dp[(r, c)] = res\n",
    "            return res\n",
    "\n",
    "        for r in range(ROWS):\n",
    "            for c in range(COLS):\n",
    "                dfs(r, c, -1)\n",
    "        return max(dp.values())\n"
   ]
  }
 ],
 "metadata": {
  "kernelspec": {
   "display_name": "Python 3",
   "language": "python",
   "name": "python3"
  },
  "language_info": {
   "name": "python",
   "version": "3.9.1 (tags/v3.9.1:1e5d33e, Dec  7 2020, 17:08:21) [MSC v.1927 64 bit (AMD64)]"
  },
  "orig_nbformat": 4,
  "vscode": {
   "interpreter": {
    "hash": "c015e0e6a20a70f8474d412d1f340c97be77a0c89b4775d2404595dcfa6c2141"
   }
  }
 },
 "nbformat": 4,
 "nbformat_minor": 2
}
