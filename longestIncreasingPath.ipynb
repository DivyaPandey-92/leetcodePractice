{
 "cells": [
  {
   "cell_type": "code",
   "execution_count": null,
   "metadata": {},
   "outputs": [],
   "source": [
    "class Solution:\n",
    "    def longestIncreasingPath(self, matrix: List[List[int]]) -> int:\n",
    "        ROWS, COLS = len(matrix), len(matrix[0])\n",
    "        dp = {}  # (r, c) -> LIP\n",
    "\n",
    "        def dfs(r, c, prevVal):\n",
    "            if r < 0 or r == ROWS or c < 0 or c == COLS or matrix[r][c] <= prevVal:\n",
    "                return 0\n",
    "            if (r, c) in dp:\n",
    "                return dp[(r, c)]\n",
    "\n",
    "            res = 1\n",
    "            res = max(res, 1 + dfs(r + 1, c, matrix[r][c]))\n",
    "            res = max(res, 1 + dfs(r - 1, c, matrix[r][c]))\n",
    "            res = max(res, 1 + dfs(r, c + 1, matrix[r][c]))\n",
    "            res = max(res, 1 + dfs(r, c - 1, matrix[r][c]))\n",
    "            dp[(r, c)] = res\n",
    "            return res\n",
    "\n",
    "        for r in range(ROWS):\n",
    "            for c in range(COLS):\n",
    "                dfs(r, c, -1)\n",
    "        return max(dp.values())\n"
   ]
  }
 ],
 "metadata": {
  "language_info": {
   "name": "python"
  },
  "orig_nbformat": 4
 },
 "nbformat": 4,
 "nbformat_minor": 2
}
