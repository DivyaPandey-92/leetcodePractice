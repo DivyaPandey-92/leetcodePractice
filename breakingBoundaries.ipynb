{
 "cells": [
  {
   "cell_type": "code",
   "execution_count": null,
   "metadata": {},
   "outputs": [],
   "source": [
    "def breaking_boundaries(m, n, k, r, c):\n",
    "  pass # todo\n",
    "  return _breaking_boundaries(m, n, k, r, c, {})\n",
    "\n",
    "\n",
    "def _breaking_boundaries(m, n, k, r, c, memo):\n",
    "  pass # todo\n",
    "  # if r >= m or c>=n:\n",
    "  #   return 1\n",
    "  row_inbounds=0<=r<m\n",
    "  col_inbounds=0<=c<n\n",
    "  \n",
    "  if not row_inbounds or not col_inbounds:\n",
    "    return 1\n",
    "  \n",
    "  \n",
    "  if k==0:\n",
    "    return 0\n",
    "  \n",
    "  key=(k, r, c)\n",
    "  \n",
    "  if key in memo:\n",
    "    return memo[key]\n",
    "  \n",
    "  moves=[(1,0), (-1,0), (0,1), (0,-1)]\n",
    "  \n",
    "  count=0\n",
    "  for move in moves:\n",
    "    d_row, d_col=move\n",
    "    count+=_breaking_boundaries(m,  n,  k-1, r+d_row, c+d_col, memo)\n",
    "    \n",
    "  memo[key]=count\n",
    "  return memo[key]"
   ]
  }
 ],
 "metadata": {
  "kernelspec": {
   "display_name": "Python 3.9.1 64-bit",
   "language": "python",
   "name": "python3"
  },
  "language_info": {
   "name": "python",
   "version": "3.9.1"
  },
  "orig_nbformat": 4,
  "vscode": {
   "interpreter": {
    "hash": "c015e0e6a20a70f8474d412d1f340c97be77a0c89b4775d2404595dcfa6c2141"
   }
  }
 },
 "nbformat": 4,
 "nbformat_minor": 2
}
