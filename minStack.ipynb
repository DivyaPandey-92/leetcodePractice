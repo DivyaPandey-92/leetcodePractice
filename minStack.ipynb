{
 "cells": [
  {
   "cell_type": "code",
   "execution_count": null,
   "metadata": {},
   "outputs": [],
   "source": [
    "class MinStack:\n",
    "\n",
    "    def __init__(self):\n",
    "        # self.val=[]\n",
    "        self.stack=[]\n",
    "        self.minStack=[]\n",
    "        \n",
    "\n",
    "    def push(self, val: int) -> None:\n",
    "        # return self.items.append(val)\n",
    "        # self.items+=[val]\n",
    "        self.stack.append(val)\n",
    "        # self.minStack=\n",
    "        val=(min(val, self.minStack[-1]) if self.minStack else val)\n",
    "        self.minStack.append(val)\n",
    "\n",
    "\n",
    "    def pop(self) -> None:\n",
    "        # return self.items.pop()\n",
    "        return self.stack.pop(), self.minStack.pop()\n",
    "\n",
    "    def top(self) -> int:\n",
    "        return self.stack[-1]\n",
    "        \n",
    "\n",
    "    def getMin(self) -> int:\n",
    "        return self.minStack[-1]\n",
    "        \n",
    "\n",
    "\n",
    "# Your MinStack object will be instantiated and called as such:\n",
    "# obj = MinStack()\n",
    "# obj.push(val)\n",
    "# obj.pop()\n",
    "# param_3 = obj.top()\n",
    "# param_4 = obj.getMin()\n",
    "Console\n"
   ]
  }
 ],
 "metadata": {
  "kernelspec": {
   "display_name": "Python 3.9.1 64-bit",
   "language": "python",
   "name": "python3"
  },
  "language_info": {
   "name": "python",
   "version": "3.9.1"
  },
  "orig_nbformat": 4,
  "vscode": {
   "interpreter": {
    "hash": "c015e0e6a20a70f8474d412d1f340c97be77a0c89b4775d2404595dcfa6c2141"
   }
  }
 },
 "nbformat": 4,
 "nbformat_minor": 2
}
