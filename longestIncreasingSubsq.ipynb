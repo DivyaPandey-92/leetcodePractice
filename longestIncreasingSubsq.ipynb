{
 "cells": [
  {
   "cell_type": "code",
   "execution_count": null,
   "metadata": {},
   "outputs": [],
   "source": [
    "class Solution:\n",
    "    def lengthOfLIS(self, nums: List[int]) -> int:\n",
    "        default=float('-inf')\n",
    "        \n",
    "        return self.LIS(nums, 0, default, {})\n",
    "\n",
    "    def LIS(self, nums, start, last_ele, memo):\n",
    "        \n",
    "        if start==len(nums):\n",
    "            return 0\n",
    "\n",
    "        key=(start,last_ele)\n",
    "\n",
    "        if key in memo:\n",
    "            return memo[key]\n",
    "\n",
    "        exclude = self.LIS(nums, start+1, last_ele, memo)\n",
    "        first=nums[start]\n",
    "        if last_ele < first:\n",
    "            include_first = 1+self.LIS(nums, start+1, first, memo)\n",
    "            max_length=max(include_first, exclude)\n",
    "            memo[key]=max_length\n",
    "            return memo[key]\n",
    "        else:\n",
    "            max_length=exclude\n",
    "            memo[key]=max_length\n",
    "            return memo[key]\n"
   ]
  }
 ],
 "metadata": {
  "kernelspec": {
   "display_name": "Python 3.9.1 64-bit",
   "language": "python",
   "name": "python3"
  },
  "language_info": {
   "name": "python",
   "version": "3.9.1"
  },
  "orig_nbformat": 4,
  "vscode": {
   "interpreter": {
    "hash": "c015e0e6a20a70f8474d412d1f340c97be77a0c89b4775d2404595dcfa6c2141"
   }
  }
 },
 "nbformat": 4,
 "nbformat_minor": 2
}
