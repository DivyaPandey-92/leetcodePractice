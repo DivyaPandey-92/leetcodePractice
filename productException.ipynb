{
 "cells": [
  {
   "cell_type": "code",
   "execution_count": null,
   "metadata": {},
   "outputs": [],
   "source": [
    "class Solution:\n",
    "    def productExceptSelf(self, nums: List[int]) -> List[int]:\n",
    "\n",
    "        # i =0,\n",
    "        # j=len(nums)-1\n",
    "\n",
    "        prefix=1\n",
    "        res=[1 for i in range(len(nums))]\n",
    "        # while i==j:\n",
    "        for i in range(len(nums)):\n",
    "            # prefix*=nums[i]\n",
    "            res[i]=prefix\n",
    "            prefix*=nums[i]\n",
    "        \n",
    "        postfix=1\n",
    "        for j in range(len(nums)-1, -1, -1):\n",
    "            # postfix*=nums[j]\n",
    "            res[j]=postfix*res[j]\n",
    "            postfix*=nums[j]\n",
    "\n",
    "        return res\n",
    "        \n",
    "            \n",
    "\n"
   ]
  }
 ],
 "metadata": {
  "language_info": {
   "name": "python"
  },
  "orig_nbformat": 4
 },
 "nbformat": 4,
 "nbformat_minor": 2
}
