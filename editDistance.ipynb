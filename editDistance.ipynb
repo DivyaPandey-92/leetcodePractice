{
 "cells": [
  {
   "cell_type": "code",
   "execution_count": null,
   "metadata": {},
   "outputs": [],
   "source": [
    "class Solution:\n",
    "    def numDistinct(self, s: str, t: str) -> int:\n",
    "        cache = {}\n",
    "\n",
    "        for i in range(len(s) + 1):\n",
    "            cache[(i, len(t))] = 1\n",
    "        for j in range(len(t)):\n",
    "            cache[(len(s), j)] = 0\n",
    "\n",
    "        for i in range(len(s) - 1, -1, -1):\n",
    "            for j in range(len(t) - 1, -1, -1):\n",
    "                if s[i] == t[j]:\n",
    "                    cache[(i, j)] = cache[(i + 1, j + 1)] + cache[(i + 1, j)]\n",
    "                else:\n",
    "                    cache[(i, j)] = cache[(i + 1, j)]\n",
    "        return cache[(0, 0)]\n"
   ]
  }
 ],
 "metadata": {
  "kernelspec": {
   "display_name": "Python 3",
   "language": "python",
   "name": "python3"
  },
  "language_info": {
   "name": "python",
   "version": "3.9.1 (tags/v3.9.1:1e5d33e, Dec  7 2020, 17:08:21) [MSC v.1927 64 bit (AMD64)]"
  },
  "orig_nbformat": 4,
  "vscode": {
   "interpreter": {
    "hash": "c015e0e6a20a70f8474d412d1f340c97be77a0c89b4775d2404595dcfa6c2141"
   }
  }
 },
 "nbformat": 4,
 "nbformat_minor": 2
}
