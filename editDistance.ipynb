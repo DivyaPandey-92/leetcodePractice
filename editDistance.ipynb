{
 "cells": [
  {
   "cell_type": "code",
   "execution_count": null,
   "metadata": {},
   "outputs": [],
   "source": [
    "class Solution:\n",
    "    def numDistinct(self, s: str, t: str) -> int:\n",
    "        cache = {}\n",
    "\n",
    "        for i in range(len(s) + 1):\n",
    "            cache[(i, len(t))] = 1\n",
    "        for j in range(len(t)):\n",
    "            cache[(len(s), j)] = 0\n",
    "\n",
    "        for i in range(len(s) - 1, -1, -1):\n",
    "            for j in range(len(t) - 1, -1, -1):\n",
    "                if s[i] == t[j]:\n",
    "                    cache[(i, j)] = cache[(i + 1, j + 1)] + cache[(i + 1, j)]\n",
    "                else:\n",
    "                    cache[(i, j)] = cache[(i + 1, j)]\n",
    "        return cache[(0, 0)]\n"
   ]
  }
 ],
 "metadata": {
  "language_info": {
   "name": "python"
  },
  "orig_nbformat": 4
 },
 "nbformat": 4,
 "nbformat_minor": 2
}
