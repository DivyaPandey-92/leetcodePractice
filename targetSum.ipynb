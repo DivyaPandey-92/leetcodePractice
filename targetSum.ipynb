{
 "cells": [
  {
   "cell_type": "code",
   "execution_count": null,
   "metadata": {},
   "outputs": [],
   "source": [
    "class Solution:\n",
    "    def findTargetSumWays(self, nums: List[int], target: int) -> int:\n",
    "        \n",
    "        return self.dfs(nums,target, 0, 0, {})\n",
    "\n",
    "    def dfs(self, nums, target, i, total, memo):\n",
    "\n",
    "        if i == len(nums):\n",
    "            return 1 if target == total else 0\n",
    "\n",
    "        key=(i, total)\n",
    "        if key in memo:\n",
    "            return memo[key]\n",
    "        \n",
    "        # l=self.dfs(nums, target, i+1, total + nums[i]) \n",
    "        # r=self.dfs(nums, target, i+1, total - nums[i])\n",
    "        memo[key]=self.dfs(nums, target, i+1, total + nums[i], memo) + self.dfs(nums, target, i+1, total - nums[i], memo)\n",
    "        return memo[key]\n"
   ]
  }
 ],
 "metadata": {
  "kernelspec": {
   "display_name": "Python 3",
   "language": "python",
   "name": "python3"
  },
  "language_info": {
   "name": "python",
   "version": "3.9.1 (tags/v3.9.1:1e5d33e, Dec  7 2020, 17:08:21) [MSC v.1927 64 bit (AMD64)]"
  },
  "orig_nbformat": 4,
  "vscode": {
   "interpreter": {
    "hash": "c015e0e6a20a70f8474d412d1f340c97be77a0c89b4775d2404595dcfa6c2141"
   }
  }
 },
 "nbformat": 4,
 "nbformat_minor": 2
}
