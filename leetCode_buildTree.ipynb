{
 "cells": [
  {
   "cell_type": "code",
   "execution_count": null,
   "metadata": {},
   "outputs": [],
   "source": [
    "# Definition for a binary tree node.\n",
    "# class TreeNode:\n",
    "#     def __init__(self, val=0, left=None, right=None):\n",
    "#         self.val = val\n",
    "#         self.left = left\n",
    "#         self.right = right\n",
    "class Solution:\n",
    "    def buildTree(self, preorder: List[int], inorder: List[int]) -> Optional[TreeNode]:\n",
    "\n",
    "        return self._buildTree(preorder, inorder)\n",
    "\n",
    "    def _buildTree(self, preorder, inorder):\n",
    "\n",
    "        # if not root:\n",
    "        #     return None\n",
    "        if len(preorder)==0:\n",
    "            return None\n",
    "\n",
    "        value=preorder[0]\n",
    "        root=TreeNode(value)\n",
    "        ind=inorder.index(value)\n",
    "        left_inorder=inorder[:ind]\n",
    "        right_inorder=inorder[ind+1:]\n",
    "        left_size=len(left_inorder)\n",
    "        left_preorder=preorder[1:1+left_size]\n",
    "        right_preorder=preorder[1+left_size:]\n",
    "\n",
    "        root.left =  self._buildTree(left_preorder, left_inorder )\n",
    "        root.right =  self._buildTree(right_preorder, right_inorder)\n",
    "\n",
    "        return root\n"
   ]
  }
 ],
 "metadata": {
  "language_info": {
   "name": "python"
  },
  "orig_nbformat": 4
 },
 "nbformat": 4,
 "nbformat_minor": 2
}
