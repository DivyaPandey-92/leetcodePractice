{
 "cells": [
  {
   "cell_type": "code",
   "execution_count": null,
   "metadata": {},
   "outputs": [],
   "source": [
    "# Definition for a binary tree node.\n",
    "# class TreeNode:\n",
    "#     def __init__(self, val=0, left=None, right=None):\n",
    "#         self.val = val\n",
    "#         self.left = left\n",
    "#         self.right = right\n",
    "class Solution:\n",
    "    def isSubtree(self, root: Optional[TreeNode], subRoot: Optional[TreeNode]) -> bool:\n",
    "\n",
    "        if subRoot is None:\n",
    "            return True\n",
    "        \n",
    "        if root is None:\n",
    "            return False\n",
    "    \n",
    "        \n",
    "        # if root.val==subRoot.val:\n",
    "        #     if self.isSame(root, subRoot):\n",
    "        #         return True\n",
    "        if self.isSame(root, subRoot):\n",
    "            return True\n",
    "        else:\n",
    "            left=self.isSubtree(root.left, subRoot)\n",
    "            right=self.isSubtree(root.right, subRoot)\n",
    "            return left or right\n",
    "\n",
    "\n",
    "    def isSame(self, root, subRoot):\n",
    "\n",
    "        if not root and not subRoot:\n",
    "            return True\n",
    "\n",
    "\n",
    "            # if (root is None and subRoot is not None ) or (root and not subroot)\n",
    "        if not root or not subRoot or root.val!=subRoot.val:\n",
    "            return False\n",
    "\n",
    "        left = self.isSame(root.left, subRoot.left) \n",
    "        right= self.isSame(root.right, subRoot.right)\n",
    "\n",
    "        return left and right\n",
    "\n",
    "\n",
    "\n",
    "\n",
    "\n",
    "\n"
   ]
  }
 ],
 "metadata": {
  "language_info": {
   "name": "python"
  },
  "orig_nbformat": 4
 },
 "nbformat": 4,
 "nbformat_minor": 2
}
