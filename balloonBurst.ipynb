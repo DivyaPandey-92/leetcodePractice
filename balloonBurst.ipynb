{
 "cells": [
  {
   "cell_type": "code",
   "execution_count": null,
   "metadata": {},
   "outputs": [],
   "source": [
    "class Solution:\n",
    "    def maxCoins(self, nums: List[int]) -> int:\n",
    "        cache = {}\n",
    "        nums = [1] + nums + [1]\n",
    "\n",
    "        for offset in range(2, len(nums)):\n",
    "            for left in range(len(nums) - offset):\n",
    "                right = left + offset\n",
    "                for pivot in range(left + 1, right):\n",
    "                    coins = nums[left] * nums[pivot] * nums[right]\n",
    "                    coins += cache.get((left, pivot), 0) + cache.get((pivot, right), 0)\n",
    "                    cache[(left, right)] = max(coins, cache.get((left, right), 0))\n",
    "        return cache.get((0, len(nums) - 1), 0)\n"
   ]
  }
 ],
 "metadata": {
  "language_info": {
   "name": "python"
  },
  "orig_nbformat": 4
 },
 "nbformat": 4,
 "nbformat_minor": 2
}
