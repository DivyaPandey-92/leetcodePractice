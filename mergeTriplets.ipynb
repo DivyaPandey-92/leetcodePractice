{
 "cells": [
  {
   "cell_type": "code",
   "execution_count": null,
   "metadata": {},
   "outputs": [],
   "source": [
    "class Solution:\n",
    "    def mergeTriplets(self, triplets: List[List[int]], target: List[int]) -> bool:\n",
    "        good_set = set()\n",
    "        x, y, z= target\n",
    "        for triplet in triplets:\n",
    "            a, b, c =triplet\n",
    "\n",
    "            if a > x or b > y or c > z:\n",
    "                continue\n",
    "            \n",
    "            for i , value in enumerate(triplet):\n",
    "                if value == target[i]:\n",
    "                    good_set.add(i)\n",
    "\n",
    "        return len(good_set)==3\n",
    "                "
   ]
  }
 ],
 "metadata": {
  "kernelspec": {
   "display_name": "Python 3.9.1 64-bit",
   "language": "python",
   "name": "python3"
  },
  "language_info": {
   "name": "python",
   "version": "3.9.1"
  },
  "orig_nbformat": 4,
  "vscode": {
   "interpreter": {
    "hash": "c015e0e6a20a70f8474d412d1f340c97be77a0c89b4775d2404595dcfa6c2141"
   }
  }
 },
 "nbformat": 4,
 "nbformat_minor": 2
}
