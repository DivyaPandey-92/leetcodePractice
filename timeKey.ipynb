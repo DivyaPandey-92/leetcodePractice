{
 "cells": [
  {
   "cell_type": "code",
   "execution_count": null,
   "metadata": {},
   "outputs": [],
   "source": [
    "class TimeMap:\n",
    "\n",
    "    def __init__(self):\n",
    "        # self.items=[]\n",
    "        self.store={} #key=strigng, value=[[value, timestamp]]\n",
    "    \n",
    "    def set(self, key: str, value: str, timestamp: int) -> None:\n",
    "        if key not in self.store:\n",
    "            self.store[key]=[]\n",
    "        self.store[key].append([value, timestamp])\n",
    "\n",
    "    def get(self, key: str, timestamp: int) -> str:\n",
    "        # res=\"\"\n",
    "        # if key not in self.store:\n",
    "        #     return []\n",
    "        # else:\n",
    "        #     l, r =self.store[key][0][0], self.store[key][0][-1]\n",
    "        res=\"\"\n",
    "        values= self.store.get(key, [])\n",
    "        \n",
    "        #binary search\n",
    "        # l, r = values[0][1], values[0]\n",
    "        l, r = 0 , len(values)-1\n",
    "\n",
    "        while l<=r:\n",
    "            m=(l+r)//2\n",
    "            \n",
    "            if values[m][1]<=timestamp:\n",
    "                res=values[m][0]\n",
    "                l=m+1\n",
    "            \n",
    "            else:\n",
    "                r=m-1\n",
    "\n",
    "\n",
    "        return res\n",
    "\n",
    "        \n",
    "\n",
    "\n",
    "# Your TimeMap object will be instantiated and called as such:\n",
    "# obj = TimeMap()\n",
    "# obj.set(key,value,timestamp)\n",
    "# param_2 = obj.get(key,timestamp)"
   ]
  }
 ],
 "metadata": {
  "kernelspec": {
   "display_name": "Python 3.9.1 64-bit",
   "language": "python",
   "name": "python3"
  },
  "language_info": {
   "name": "python",
   "version": "3.9.1"
  },
  "orig_nbformat": 4,
  "vscode": {
   "interpreter": {
    "hash": "c015e0e6a20a70f8474d412d1f340c97be77a0c89b4775d2404595dcfa6c2141"
   }
  }
 },
 "nbformat": 4,
 "nbformat_minor": 2
}
