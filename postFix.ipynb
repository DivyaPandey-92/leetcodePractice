{
 "cells": [
  {
   "cell_type": "code",
   "execution_count": null,
   "metadata": {},
   "outputs": [],
   "source": [
    "class Solution:\n",
    "    def evalRPN(self, tokens: List[str]) -> int:\n",
    "        stack=[]\n",
    "        for token in tokens:\n",
    "\n",
    "            # if token in \"0123456789\":\n",
    "            #     stack.append(int(token))\n",
    "            # else:\n",
    "            if token in ['+', '-', '*', '/']:\n",
    "                operand2=stack.pop()\n",
    "                operand1=stack.pop()\n",
    "                result=self.doMath(operand1, operand2, token)\n",
    "                stack.append(int(result))\n",
    "            else:\n",
    "                stack.append(int(token))\n",
    "\n",
    "        return stack[0]\n",
    "\n",
    "    def doMath(self, operand1, operand2, operator):\n",
    "\n",
    "        if operator=='*':\n",
    "            return operand1*operand2\n",
    "        \n",
    "        elif operator=='/':\n",
    "            return operand1/operand2\n",
    "\n",
    "        elif operator=='-':\n",
    "            return operand1-operand2\n",
    "\n",
    "        else:\n",
    "            return operand1+operand2"
   ]
  }
 ],
 "metadata": {
  "language_info": {
   "name": "python"
  },
  "orig_nbformat": 4
 },
 "nbformat": 4,
 "nbformat_minor": 2
}
