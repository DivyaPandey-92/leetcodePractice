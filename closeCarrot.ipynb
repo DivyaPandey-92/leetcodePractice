{
 "cells": [
  {
   "cell_type": "code",
   "execution_count": null,
   "metadata": {},
   "outputs": [],
   "source": [
    "from collections import deque\n",
    "def closest_carrot(grid, starting_row, starting_col):\n",
    "  pass # todo\n",
    "  visited=set()\n",
    "  # return explore(grid, starting_row, starting_col, visited)\n",
    "  queue=deque( [ (starting_row, starting_col, 0)  ])\n",
    "  \n",
    "  # moves=[(1,0), (-1,0), (0,1), (0,-1)]\n",
    "  while queue:\n",
    "    row, col, distance=queue.popleft()\n",
    "    \n",
    "    pos=(row, col)\n",
    "    visited.add(pos)\n",
    "      \n",
    "    \n",
    "    if grid[row][col]=='C':\n",
    "      return distance\n",
    "    \n",
    "    moves=[(1,0), (-1,0), (0,1), (0,-1)]\n",
    "    for move in moves:\n",
    "      # neighbor_row, neighbor_col=\n",
    "      move_row, mov_col=move\n",
    "      neighbor_row=row+move_row\n",
    "      neighbor_col=col+mov_col\n",
    "      row_inbouds=0<=neighbor_row<len(grid)\n",
    "      col_inbouds= 0<=neighbor_col<len(grid[0])\n",
    "      # if row_inbouds and col_inbouds and grid[neighbor_row][neighbor_col]=='O' :\n",
    "      if row_inbouds and col_inbouds and grid[neighbor_row][neighbor_col]!='X' :\n",
    "        if (neighbor_row, neighbor_col) not in visited:\n",
    "          queue.append((neighbor_row, neighbor_col, distance+1))\n",
    "      \n",
    "  return -1 "
   ]
  }
 ],
 "metadata": {
  "kernelspec": {
   "display_name": "Python 3.9.1 64-bit",
   "language": "python",
   "name": "python3"
  },
  "language_info": {
   "name": "python",
   "version": "3.9.1"
  },
  "orig_nbformat": 4,
  "vscode": {
   "interpreter": {
    "hash": "c015e0e6a20a70f8474d412d1f340c97be77a0c89b4775d2404595dcfa6c2141"
   }
  }
 },
 "nbformat": 4,
 "nbformat_minor": 2
}
