{
 "cells": [
  {
   "cell_type": "code",
   "execution_count": null,
   "metadata": {},
   "outputs": [],
   "source": [
    "class Solution:\n",
    "    def cloneGraph(self, node: \"Node\") -> \"Node\":\n",
    "        oldToNew = {}\n",
    "\n",
    "        def dfs(node):\n",
    "            if node in oldToNew:\n",
    "                return oldToNew[node]\n",
    "\n",
    "            copy = Node(node.val)\n",
    "            oldToNew[node] = copy\n",
    "            for nei in node.neighbors:\n",
    "                copy.neighbors.append(dfs(nei))\n",
    "            return copy\n",
    "\n",
    "        return dfs(node) if node else None"
   ]
  }
 ],
 "metadata": {
  "language_info": {
   "name": "python"
  },
  "orig_nbformat": 4
 },
 "nbformat": 4,
 "nbformat_minor": 2
}
