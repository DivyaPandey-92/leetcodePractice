{
 "cells": [
  {
   "cell_type": "code",
   "execution_count": null,
   "metadata": {},
   "outputs": [],
   "source": [
    "from pythonds.graphs import Graph\n",
    "\n",
    "def knightGraph(bdSize):\n",
    "    ktGraph = Graph()\n",
    "    for row in range(bdSize):\n",
    "       for col in range(bdSize):\n",
    "           nodeId = posToNodeId(row,col,bdSize)\n",
    "           newPositions = genLegalMoves(row,col,bdSize)\n",
    "           for e in newPositions:\n",
    "               nid = posToNodeId(e[0],e[1],bdSize)\n",
    "               ktGraph.addEdge(nodeId,nid)\n",
    "    return ktGraph\n",
    "\n",
    "def posToNodeId(row, column, board_size):\n",
    "    return (row * board_size) + column"
   ]
  },
  {
   "cell_type": "code",
   "execution_count": null,
   "metadata": {},
   "outputs": [],
   "source": [
    "def  genLegalMoves(x, y, board_size):\n",
    "\n",
    "    newMoves = []\n",
    "    moveOffsets = [(-1,-2),(-1,2),(-2,-1),(-2,1),\n",
    "                   ( 1,-2),( 1,2),( 2,-1),( 2,1)]\n",
    "    for i in moveOffsets:\n",
    "        newX=x+i[0]\n",
    "        newY=y+i[1]\n",
    "        if legalCoord(newX, board_size) and legalCoor(newY, board_size):\n",
    "            newMoves.append((newX, newY))\n",
    "    return newMoves\n",
    "\n",
    "def legalCoord(x, bdSize):\n",
    "    if x>0 and x<bdSize:\n",
    "        return True\n",
    "    else:\n",
    "        False\n",
    "\n",
    "\n",
    "\n",
    "\n",
    "\n",
    "\n"
   ]
  }
 ],
 "metadata": {
  "kernelspec": {
   "display_name": "Python 3.9.1 64-bit",
   "language": "python",
   "name": "python3"
  },
  "language_info": {
   "name": "python",
   "version": "3.9.1"
  },
  "orig_nbformat": 4,
  "vscode": {
   "interpreter": {
    "hash": "c015e0e6a20a70f8474d412d1f340c97be77a0c89b4775d2404595dcfa6c2141"
   }
  }
 },
 "nbformat": 4,
 "nbformat_minor": 2
}
